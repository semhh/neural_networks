{
 "cells": [
  {
   "cell_type": "markdown",
   "id": "0085d2e1",
   "metadata": {},
   "source": [
    "## <b>Homework 1</b>\n",
    "<br>Semih KARACAOĞLU</br>\n",
    "<br>17050111008</br>\n",
    "<br><br>Instructor : Assoc. Prof. Fatih NAR</br></br>\n",
    "<br>Lecture : CENG428\tNEURAL NETWORKS</br>\n",
    "<br>Semester : 2021-2022 Spring</br>\n",
    "\n"
   ]
  },
  {
   "cell_type": "markdown",
   "id": "d61d3467",
   "metadata": {},
   "source": [
    "<hr style=\"border:2px solid gray\"> </hr>"
   ]
  },
  {
   "cell_type": "code",
   "execution_count": 1,
   "id": "b7e13f76",
   "metadata": {},
   "outputs": [],
   "source": [
    "# importing necessary libraries\n",
    "import numpy as np\n",
    "import pandas as pd\n",
    "from tabulate import tabulate"
   ]
  },
  {
   "cell_type": "code",
   "execution_count": 2,
   "id": "9004d6d8",
   "metadata": {},
   "outputs": [],
   "source": [
    "from mpl_toolkits import mplot3d\n",
    "import matplotlib.pyplot as plt"
   ]
  },
  {
   "cell_type": "markdown",
   "id": "5f0d6873",
   "metadata": {},
   "source": [
    "<hr style=\"border:2px solid gray\"> </hr>"
   ]
  },
  {
   "cell_type": "markdown",
   "id": "b50529fc",
   "metadata": {},
   "source": [
    "### Inputs And True Outputs"
   ]
  },
  {
   "cell_type": "code",
   "execution_count": 3,
   "id": "11a11ce9",
   "metadata": {},
   "outputs": [],
   "source": [
    "x1 = [0,0,1,1]\n",
    "x2 = [0,1,0,1]\n",
    "# True y values for different logical operations\n",
    "y_a = [0,0,0,1]\n",
    "y_b = [0,1,1,1]\n",
    "y_c = [1,1,1,1]\n",
    "y_d = [0,1,1,0]"
   ]
  },
  {
   "cell_type": "markdown",
   "id": "85d3979a",
   "metadata": {},
   "source": [
    "<hr style=\"border:2px solid gray\"> </hr>"
   ]
  },
  {
   "cell_type": "markdown",
   "id": "83477c5b",
   "metadata": {},
   "source": [
    "## McCulloch-Pitts neuron Calculating Function"
   ]
  },
  {
   "cell_type": "code",
   "execution_count": 4,
   "id": "4f4b6ef1",
   "metadata": {},
   "outputs": [],
   "source": [
    "def calculate_neuron(w0):    \n",
    "    i = 0\n",
    "    y_hat = [[] for i in range(1681)]\n",
    "    for w1 in np.arange(-2,2.1,0.1):\n",
    "        for w2 in np.arange(-2,2.1,0.1):\n",
    "            y_hat[i].append(round(w1,1))\n",
    "            y_hat[i].append(round(w2,1))\n",
    "            for j in range(4):\n",
    "                y_hat[i].append(x1[j]*round(w1,1) + x2[j]*round(w2,1) + w0)\n",
    "            i+=1\n",
    "            \n",
    "    for k in range(1681):\n",
    "        for m in range(2,6):\n",
    "            if y_hat[k][m]<0:\n",
    "                y_hat[k][m]=0\n",
    "            elif y_hat[k][m]>=0:\n",
    "                y_hat[k][m]=1\n",
    "            \n",
    "    return y_hat"
   ]
  },
  {
   "cell_type": "markdown",
   "id": "4abc66ff",
   "metadata": {},
   "source": [
    "<hr style=\"border:2px solid gray\"> </hr>"
   ]
  },
  {
   "cell_type": "markdown",
   "id": "00a0a161",
   "metadata": {},
   "source": [
    "## a) $x_1$ AND $x_2$"
   ]
  },
  {
   "cell_type": "markdown",
   "id": "880c9e3d",
   "metadata": {},
   "source": [
    "### a.I) Truth Table"
   ]
  },
  {
   "cell_type": "code",
   "execution_count": 5,
   "id": "67af6298",
   "metadata": {},
   "outputs": [
    {
     "name": "stdout",
     "output_type": "stream",
     "text": [
      "╒══════╤══════╤═════════════╕\n",
      "│   x1 │   x2 │   x1 AND x2 │\n",
      "╞══════╪══════╪═════════════╡\n",
      "│    0 │    0 │           0 │\n",
      "├──────┼──────┼─────────────┤\n",
      "│    0 │    1 │           0 │\n",
      "├──────┼──────┼─────────────┤\n",
      "│    1 │    0 │           0 │\n",
      "├──────┼──────┼─────────────┤\n",
      "│    1 │    1 │           1 │\n",
      "╘══════╧══════╧═════════════╛\n"
     ]
    }
   ],
   "source": [
    "print(tabulate({\"x1\": ['0', '0', '1', '1'], 'x2': ['0', '1', '0', '1'], 'x1 AND x2': [0, 0, 0, 1]}, headers=\"keys\", tablefmt='fancy_grid', missingval='N/A'))"
   ]
  },
  {
   "cell_type": "markdown",
   "id": "b34a0e22",
   "metadata": {},
   "source": [
    "### a.II) Finding best 𝑤1 and 𝑤2"
   ]
  },
  {
   "cell_type": "markdown",
   "id": "5b080fa8",
   "metadata": {},
   "source": [
    "We choose <b>w0</b> as <b>-1</b> for <b>\"AND\"</b> logical operation."
   ]
  },
  {
   "cell_type": "code",
   "execution_count": 6,
   "id": "53c8df5a",
   "metadata": {},
   "outputs": [],
   "source": [
    "y_hat_a = calculate_neuron(-1)"
   ]
  },
  {
   "cell_type": "code",
   "execution_count": 7,
   "id": "350ac799",
   "metadata": {},
   "outputs": [],
   "source": [
    "for i in range(len(y_hat_a)):\n",
    "    comparison = y_hat_a[i][2:6] == np.array(y_a)\n",
    "    y_hat_a[i].append(np.count_nonzero(comparison))"
   ]
  },
  {
   "cell_type": "code",
   "execution_count": 8,
   "id": "ea7a015c",
   "metadata": {},
   "outputs": [],
   "source": [
    "df_a = pd.DataFrame(y_hat_a, columns =['w1','w2','y1_hat', 'y2_hat', 'y3_hat', 'y4_hat', 'True_Count'])"
   ]
  },
  {
   "cell_type": "code",
   "execution_count": 9,
   "id": "51f15c4f",
   "metadata": {},
   "outputs": [
    {
     "data": {
      "text/html": [
       "<div>\n",
       "<style scoped>\n",
       "    .dataframe tbody tr th:only-of-type {\n",
       "        vertical-align: middle;\n",
       "    }\n",
       "\n",
       "    .dataframe tbody tr th {\n",
       "        vertical-align: top;\n",
       "    }\n",
       "\n",
       "    .dataframe thead th {\n",
       "        text-align: right;\n",
       "    }\n",
       "</style>\n",
       "<table border=\"1\" class=\"dataframe\">\n",
       "  <thead>\n",
       "    <tr style=\"text-align: right;\">\n",
       "      <th></th>\n",
       "      <th>w1</th>\n",
       "      <th>w2</th>\n",
       "      <th>y1_hat</th>\n",
       "      <th>y2_hat</th>\n",
       "      <th>y3_hat</th>\n",
       "      <th>y4_hat</th>\n",
       "      <th>True_Count</th>\n",
       "    </tr>\n",
       "  </thead>\n",
       "  <tbody>\n",
       "    <tr>\n",
       "      <th>0</th>\n",
       "      <td>-2.0</td>\n",
       "      <td>-2.0</td>\n",
       "      <td>0</td>\n",
       "      <td>0</td>\n",
       "      <td>0</td>\n",
       "      <td>0</td>\n",
       "      <td>3</td>\n",
       "    </tr>\n",
       "    <tr>\n",
       "      <th>1</th>\n",
       "      <td>-2.0</td>\n",
       "      <td>-1.9</td>\n",
       "      <td>0</td>\n",
       "      <td>0</td>\n",
       "      <td>0</td>\n",
       "      <td>0</td>\n",
       "      <td>3</td>\n",
       "    </tr>\n",
       "    <tr>\n",
       "      <th>2</th>\n",
       "      <td>-2.0</td>\n",
       "      <td>-1.8</td>\n",
       "      <td>0</td>\n",
       "      <td>0</td>\n",
       "      <td>0</td>\n",
       "      <td>0</td>\n",
       "      <td>3</td>\n",
       "    </tr>\n",
       "    <tr>\n",
       "      <th>3</th>\n",
       "      <td>-2.0</td>\n",
       "      <td>-1.7</td>\n",
       "      <td>0</td>\n",
       "      <td>0</td>\n",
       "      <td>0</td>\n",
       "      <td>0</td>\n",
       "      <td>3</td>\n",
       "    </tr>\n",
       "    <tr>\n",
       "      <th>4</th>\n",
       "      <td>-2.0</td>\n",
       "      <td>-1.6</td>\n",
       "      <td>0</td>\n",
       "      <td>0</td>\n",
       "      <td>0</td>\n",
       "      <td>0</td>\n",
       "      <td>3</td>\n",
       "    </tr>\n",
       "    <tr>\n",
       "      <th>...</th>\n",
       "      <td>...</td>\n",
       "      <td>...</td>\n",
       "      <td>...</td>\n",
       "      <td>...</td>\n",
       "      <td>...</td>\n",
       "      <td>...</td>\n",
       "      <td>...</td>\n",
       "    </tr>\n",
       "    <tr>\n",
       "      <th>1676</th>\n",
       "      <td>2.0</td>\n",
       "      <td>1.6</td>\n",
       "      <td>0</td>\n",
       "      <td>1</td>\n",
       "      <td>1</td>\n",
       "      <td>1</td>\n",
       "      <td>2</td>\n",
       "    </tr>\n",
       "    <tr>\n",
       "      <th>1677</th>\n",
       "      <td>2.0</td>\n",
       "      <td>1.7</td>\n",
       "      <td>0</td>\n",
       "      <td>1</td>\n",
       "      <td>1</td>\n",
       "      <td>1</td>\n",
       "      <td>2</td>\n",
       "    </tr>\n",
       "    <tr>\n",
       "      <th>1678</th>\n",
       "      <td>2.0</td>\n",
       "      <td>1.8</td>\n",
       "      <td>0</td>\n",
       "      <td>1</td>\n",
       "      <td>1</td>\n",
       "      <td>1</td>\n",
       "      <td>2</td>\n",
       "    </tr>\n",
       "    <tr>\n",
       "      <th>1679</th>\n",
       "      <td>2.0</td>\n",
       "      <td>1.9</td>\n",
       "      <td>0</td>\n",
       "      <td>1</td>\n",
       "      <td>1</td>\n",
       "      <td>1</td>\n",
       "      <td>2</td>\n",
       "    </tr>\n",
       "    <tr>\n",
       "      <th>1680</th>\n",
       "      <td>2.0</td>\n",
       "      <td>2.0</td>\n",
       "      <td>0</td>\n",
       "      <td>1</td>\n",
       "      <td>1</td>\n",
       "      <td>1</td>\n",
       "      <td>2</td>\n",
       "    </tr>\n",
       "  </tbody>\n",
       "</table>\n",
       "<p>1681 rows × 7 columns</p>\n",
       "</div>"
      ],
      "text/plain": [
       "       w1   w2  y1_hat  y2_hat  y3_hat  y4_hat  True_Count\n",
       "0    -2.0 -2.0       0       0       0       0           3\n",
       "1    -2.0 -1.9       0       0       0       0           3\n",
       "2    -2.0 -1.8       0       0       0       0           3\n",
       "3    -2.0 -1.7       0       0       0       0           3\n",
       "4    -2.0 -1.6       0       0       0       0           3\n",
       "...   ...  ...     ...     ...     ...     ...         ...\n",
       "1676  2.0  1.6       0       1       1       1           2\n",
       "1677  2.0  1.7       0       1       1       1           2\n",
       "1678  2.0  1.8       0       1       1       1           2\n",
       "1679  2.0  1.9       0       1       1       1           2\n",
       "1680  2.0  2.0       0       1       1       1           2\n",
       "\n",
       "[1681 rows x 7 columns]"
      ]
     },
     "execution_count": 9,
     "metadata": {},
     "output_type": "execute_result"
    }
   ],
   "source": [
    "df_a"
   ]
  },
  {
   "cell_type": "code",
   "execution_count": 10,
   "id": "eb4c6ce8",
   "metadata": {},
   "outputs": [
    {
     "data": {
      "text/plain": [
       "array([3, 2, 4], dtype=int64)"
      ]
     },
     "execution_count": 10,
     "metadata": {},
     "output_type": "execute_result"
    }
   ],
   "source": [
    "df_a.True_Count.unique()"
   ]
  },
  {
   "cell_type": "code",
   "execution_count": 11,
   "id": "a415ac92",
   "metadata": {},
   "outputs": [],
   "source": [
    "min_err_indexes_a = df_a.index[df_a['True_Count'] == 4].tolist()"
   ]
  },
  {
   "cell_type": "code",
   "execution_count": 12,
   "id": "51508538",
   "metadata": {
    "scrolled": true
   },
   "outputs": [
    {
     "data": {
      "text/plain": [
       "[890,\n",
       " 930,\n",
       " 931,\n",
       " 970,\n",
       " 971,\n",
       " 972,\n",
       " 1010,\n",
       " 1011,\n",
       " 1012,\n",
       " 1013,\n",
       " 1050,\n",
       " 1051,\n",
       " 1052,\n",
       " 1053,\n",
       " 1054,\n",
       " 1090,\n",
       " 1091,\n",
       " 1092,\n",
       " 1093,\n",
       " 1094,\n",
       " 1095,\n",
       " 1130,\n",
       " 1131,\n",
       " 1132,\n",
       " 1133,\n",
       " 1134,\n",
       " 1135,\n",
       " 1136,\n",
       " 1170,\n",
       " 1171,\n",
       " 1172,\n",
       " 1173,\n",
       " 1174,\n",
       " 1175,\n",
       " 1176,\n",
       " 1177,\n",
       " 1210,\n",
       " 1211,\n",
       " 1212,\n",
       " 1213,\n",
       " 1214,\n",
       " 1215,\n",
       " 1216,\n",
       " 1217,\n",
       " 1218]"
      ]
     },
     "execution_count": 12,
     "metadata": {},
     "output_type": "execute_result"
    }
   ],
   "source": [
    "min_err_indexes_a"
   ]
  },
  {
   "cell_type": "markdown",
   "id": "6b6c2b9a",
   "metadata": {},
   "source": [
    "We are going to choose the minimum abs(w1) + abs(w2) values as w1 and w2."
   ]
  },
  {
   "cell_type": "code",
   "execution_count": 13,
   "id": "c94406de",
   "metadata": {},
   "outputs": [],
   "source": [
    "minimum = 4\n",
    "for i in range(len(min_err_indexes_a)):\n",
    "    if abs(df_a.iloc[min_err_indexes_a[i]][0]) + abs(df_a.iloc[min_err_indexes_a[i]][1]) < minimum:\n",
    "        minimum = abs(df_a.iloc[min_err_indexes_a[i]][0]) + abs(df_a.iloc[min_err_indexes_a[i]][1])\n",
    "        minimum_index_a = min_err_indexes_a[i]"
   ]
  },
  {
   "cell_type": "markdown",
   "id": "f9e3dd88",
   "metadata": {},
   "source": [
    "Minimum sum of abs(w1) and abs(w2) pair's is 1.0."
   ]
  },
  {
   "cell_type": "code",
   "execution_count": 14,
   "id": "238e90b9",
   "metadata": {},
   "outputs": [
    {
     "data": {
      "text/plain": [
       "1.0"
      ]
     },
     "execution_count": 14,
     "metadata": {},
     "output_type": "execute_result"
    }
   ],
   "source": [
    "minimum"
   ]
  },
  {
   "cell_type": "markdown",
   "id": "b85ee513",
   "metadata": {},
   "source": [
    "And the index of this w1, w2 pair is 890."
   ]
  },
  {
   "cell_type": "code",
   "execution_count": 15,
   "id": "ee3d6bfe",
   "metadata": {},
   "outputs": [
    {
     "data": {
      "text/plain": [
       "890"
      ]
     },
     "execution_count": 15,
     "metadata": {},
     "output_type": "execute_result"
    }
   ],
   "source": [
    "minimum_index_a"
   ]
  },
  {
   "cell_type": "markdown",
   "id": "f9af8545",
   "metadata": {},
   "source": [
    "#### Result For Section <b>\"a\"</b>"
   ]
  },
  {
   "cell_type": "markdown",
   "id": "587ff3e9",
   "metadata": {},
   "source": [
    "So, as we can see in below output best pair for <b>\"AND\"</b> logical operation is <b>w1 = 0.1</b>  and <b>w2 = 0.9</b>."
   ]
  },
  {
   "cell_type": "code",
   "execution_count": 16,
   "id": "3afae9c4",
   "metadata": {},
   "outputs": [
    {
     "data": {
      "text/plain": [
       "w1    0.1\n",
       "w2    0.9\n",
       "Name: 890, dtype: float64"
      ]
     },
     "execution_count": 16,
     "metadata": {},
     "output_type": "execute_result"
    }
   ],
   "source": [
    "df_a.iloc[890][0:2]"
   ]
  },
  {
   "cell_type": "markdown",
   "id": "916d9feb",
   "metadata": {},
   "source": [
    "### a.III) Plotting"
   ]
  },
  {
   "cell_type": "code",
   "execution_count": 17,
   "id": "2cec0dc7",
   "metadata": {},
   "outputs": [
    {
     "data": {
      "image/png": "[encoded data removed]",
      "text/plain": [
       "<Figure size 576x576 with 1 Axes>"
      ]
     },
     "metadata": {
      "needs_background": "light"
     },
     "output_type": "display_data"
    }
   ],
   "source": [
    "fig = plt.figure(figsize = (8,8))\n",
    "ax = plt.axes(projection='3d')\n",
    "\n",
    "ax.plot3D(x1, x2, y_a)\n",
    "ax.set_title('3D Parametric Plot')\n",
    "\n",
    "#specify axis tick step sizes\n",
    "ax.set_xticks([0, 1])\n",
    "ax.set_yticks([0, 1])\n",
    "ax.set_zticks([0, 1])\n",
    "\n",
    "# Set axes label\n",
    "ax.set_xlabel('x1', labelpad=20)\n",
    "ax.set_ylabel('x2', labelpad=20)\n",
    "ax.set_zlabel('y', labelpad=20)\n",
    "\n",
    "plt.show()"
   ]
  },
  {
   "cell_type": "markdown",
   "id": "283ac8d9",
   "metadata": {},
   "source": [
    "<hr style=\"border:2px solid gray\"> </hr>"
   ]
  },
  {
   "cell_type": "markdown",
   "id": "03e30f47",
   "metadata": {},
   "source": [
    "## b) $x_1$ OR $x_2$"
   ]
  },
  {
   "cell_type": "markdown",
   "id": "573caea3",
   "metadata": {},
   "source": [
    "### b.I) Truth Table"
   ]
  },
  {
   "cell_type": "code",
   "execution_count": 18,
   "id": "0c77e133",
   "metadata": {},
   "outputs": [
    {
     "name": "stdout",
     "output_type": "stream",
     "text": [
      "╒══════╤══════╤════════════╕\n",
      "│   x1 │   x2 │   x1 OR x2 │\n",
      "╞══════╪══════╪════════════╡\n",
      "│    0 │    0 │          0 │\n",
      "├──────┼──────┼────────────┤\n",
      "│    0 │    1 │          1 │\n",
      "├──────┼──────┼────────────┤\n",
      "│    1 │    0 │          1 │\n",
      "├──────┼──────┼────────────┤\n",
      "│    1 │    1 │          1 │\n",
      "╘══════╧══════╧════════════╛\n"
     ]
    }
   ],
   "source": [
    "print(tabulate({\"x1\": ['0', '0', '1', '1'], 'x2': ['0', '1', '0', '1'], 'x1 OR x2': [0, 1, 1, 1]}, headers=\"keys\", tablefmt='fancy_grid', missingval='N/A'))"
   ]
  },
  {
   "cell_type": "markdown",
   "id": "62c5ee72",
   "metadata": {},
   "source": [
    "### b.II) Finding best 𝑤1 and 𝑤2"
   ]
  },
  {
   "cell_type": "markdown",
   "id": "fc848e99",
   "metadata": {},
   "source": [
    "We choose <b>w0</b> as <b>-1</b> for <b>\"OR\"</b> logical operation."
   ]
  },
  {
   "cell_type": "code",
   "execution_count": 19,
   "id": "0407530b",
   "metadata": {},
   "outputs": [],
   "source": [
    "y_hat_b = calculate_neuron(-1)"
   ]
  },
  {
   "cell_type": "code",
   "execution_count": 20,
   "id": "1e20bc9f",
   "metadata": {},
   "outputs": [],
   "source": [
    "for i in range(len(y_hat_b)):\n",
    "    comparison = y_hat_b[i][2:6] == np.array(y_b)\n",
    "    y_hat_b[i].append(np.count_nonzero(comparison))"
   ]
  },
  {
   "cell_type": "code",
   "execution_count": 21,
   "id": "d3526013",
   "metadata": {},
   "outputs": [],
   "source": [
    "df_b = pd.DataFrame(y_hat_b, columns =['w1','w2','y1_hat', 'y2_hat', 'y3_hat', 'y4_hat', 'True_Count'])"
   ]
  },
  {
   "cell_type": "code",
   "execution_count": 22,
   "id": "202e78b4",
   "metadata": {},
   "outputs": [
    {
     "data": {
      "text/html": [
       "<div>\n",
       "<style scoped>\n",
       "    .dataframe tbody tr th:only-of-type {\n",
       "        vertical-align: middle;\n",
       "    }\n",
       "\n",
       "    .dataframe tbody tr th {\n",
       "        vertical-align: top;\n",
       "    }\n",
       "\n",
       "    .dataframe thead th {\n",
       "        text-align: right;\n",
       "    }\n",
       "</style>\n",
       "<table border=\"1\" class=\"dataframe\">\n",
       "  <thead>\n",
       "    <tr style=\"text-align: right;\">\n",
       "      <th></th>\n",
       "      <th>w1</th>\n",
       "      <th>w2</th>\n",
       "      <th>y1_hat</th>\n",
       "      <th>y2_hat</th>\n",
       "      <th>y3_hat</th>\n",
       "      <th>y4_hat</th>\n",
       "      <th>True_Count</th>\n",
       "    </tr>\n",
       "  </thead>\n",
       "  <tbody>\n",
       "    <tr>\n",
       "      <th>0</th>\n",
       "      <td>-2.0</td>\n",
       "      <td>-2.0</td>\n",
       "      <td>0</td>\n",
       "      <td>0</td>\n",
       "      <td>0</td>\n",
       "      <td>0</td>\n",
       "      <td>1</td>\n",
       "    </tr>\n",
       "    <tr>\n",
       "      <th>1</th>\n",
       "      <td>-2.0</td>\n",
       "      <td>-1.9</td>\n",
       "      <td>0</td>\n",
       "      <td>0</td>\n",
       "      <td>0</td>\n",
       "      <td>0</td>\n",
       "      <td>1</td>\n",
       "    </tr>\n",
       "    <tr>\n",
       "      <th>2</th>\n",
       "      <td>-2.0</td>\n",
       "      <td>-1.8</td>\n",
       "      <td>0</td>\n",
       "      <td>0</td>\n",
       "      <td>0</td>\n",
       "      <td>0</td>\n",
       "      <td>1</td>\n",
       "    </tr>\n",
       "    <tr>\n",
       "      <th>3</th>\n",
       "      <td>-2.0</td>\n",
       "      <td>-1.7</td>\n",
       "      <td>0</td>\n",
       "      <td>0</td>\n",
       "      <td>0</td>\n",
       "      <td>0</td>\n",
       "      <td>1</td>\n",
       "    </tr>\n",
       "    <tr>\n",
       "      <th>4</th>\n",
       "      <td>-2.0</td>\n",
       "      <td>-1.6</td>\n",
       "      <td>0</td>\n",
       "      <td>0</td>\n",
       "      <td>0</td>\n",
       "      <td>0</td>\n",
       "      <td>1</td>\n",
       "    </tr>\n",
       "    <tr>\n",
       "      <th>...</th>\n",
       "      <td>...</td>\n",
       "      <td>...</td>\n",
       "      <td>...</td>\n",
       "      <td>...</td>\n",
       "      <td>...</td>\n",
       "      <td>...</td>\n",
       "      <td>...</td>\n",
       "    </tr>\n",
       "    <tr>\n",
       "      <th>1676</th>\n",
       "      <td>2.0</td>\n",
       "      <td>1.6</td>\n",
       "      <td>0</td>\n",
       "      <td>1</td>\n",
       "      <td>1</td>\n",
       "      <td>1</td>\n",
       "      <td>4</td>\n",
       "    </tr>\n",
       "    <tr>\n",
       "      <th>1677</th>\n",
       "      <td>2.0</td>\n",
       "      <td>1.7</td>\n",
       "      <td>0</td>\n",
       "      <td>1</td>\n",
       "      <td>1</td>\n",
       "      <td>1</td>\n",
       "      <td>4</td>\n",
       "    </tr>\n",
       "    <tr>\n",
       "      <th>1678</th>\n",
       "      <td>2.0</td>\n",
       "      <td>1.8</td>\n",
       "      <td>0</td>\n",
       "      <td>1</td>\n",
       "      <td>1</td>\n",
       "      <td>1</td>\n",
       "      <td>4</td>\n",
       "    </tr>\n",
       "    <tr>\n",
       "      <th>1679</th>\n",
       "      <td>2.0</td>\n",
       "      <td>1.9</td>\n",
       "      <td>0</td>\n",
       "      <td>1</td>\n",
       "      <td>1</td>\n",
       "      <td>1</td>\n",
       "      <td>4</td>\n",
       "    </tr>\n",
       "    <tr>\n",
       "      <th>1680</th>\n",
       "      <td>2.0</td>\n",
       "      <td>2.0</td>\n",
       "      <td>0</td>\n",
       "      <td>1</td>\n",
       "      <td>1</td>\n",
       "      <td>1</td>\n",
       "      <td>4</td>\n",
       "    </tr>\n",
       "  </tbody>\n",
       "</table>\n",
       "<p>1681 rows × 7 columns</p>\n",
       "</div>"
      ],
      "text/plain": [
       "       w1   w2  y1_hat  y2_hat  y3_hat  y4_hat  True_Count\n",
       "0    -2.0 -2.0       0       0       0       0           1\n",
       "1    -2.0 -1.9       0       0       0       0           1\n",
       "2    -2.0 -1.8       0       0       0       0           1\n",
       "3    -2.0 -1.7       0       0       0       0           1\n",
       "4    -2.0 -1.6       0       0       0       0           1\n",
       "...   ...  ...     ...     ...     ...     ...         ...\n",
       "1676  2.0  1.6       0       1       1       1           4\n",
       "1677  2.0  1.7       0       1       1       1           4\n",
       "1678  2.0  1.8       0       1       1       1           4\n",
       "1679  2.0  1.9       0       1       1       1           4\n",
       "1680  2.0  2.0       0       1       1       1           4\n",
       "\n",
       "[1681 rows x 7 columns]"
      ]
     },
     "execution_count": 22,
     "metadata": {},
     "output_type": "execute_result"
    }
   ],
   "source": [
    "df_b"
   ]
  },
  {
   "cell_type": "code",
   "execution_count": 23,
   "id": "02668b67",
   "metadata": {},
   "outputs": [
    {
     "data": {
      "text/plain": [
       "array([1, 2, 3, 4], dtype=int64)"
      ]
     },
     "execution_count": 23,
     "metadata": {},
     "output_type": "execute_result"
    }
   ],
   "source": [
    "df_b.True_Count.unique()"
   ]
  },
  {
   "cell_type": "code",
   "execution_count": 24,
   "id": "10a966e2",
   "metadata": {},
   "outputs": [],
   "source": [
    "min_err_indexes_b = df_b.index[df_b['True_Count'] == 4].tolist()"
   ]
  },
  {
   "cell_type": "code",
   "execution_count": 25,
   "id": "613e965f",
   "metadata": {},
   "outputs": [
    {
     "data": {
      "text/plain": [
       "[1260,\n",
       " 1261,\n",
       " 1262,\n",
       " 1263,\n",
       " 1264,\n",
       " 1265,\n",
       " 1266,\n",
       " 1267,\n",
       " 1268,\n",
       " 1269,\n",
       " 1270,\n",
       " 1301,\n",
       " 1302,\n",
       " 1303,\n",
       " 1304,\n",
       " 1305,\n",
       " 1306,\n",
       " 1307,\n",
       " 1308,\n",
       " 1309,\n",
       " 1310,\n",
       " 1311,\n",
       " 1342,\n",
       " 1343,\n",
       " 1344,\n",
       " 1345,\n",
       " 1346,\n",
       " 1347,\n",
       " 1348,\n",
       " 1349,\n",
       " 1350,\n",
       " 1351,\n",
       " 1352,\n",
       " 1383,\n",
       " 1384,\n",
       " 1385,\n",
       " 1386,\n",
       " 1387,\n",
       " 1388,\n",
       " 1389,\n",
       " 1390,\n",
       " 1391,\n",
       " 1392,\n",
       " 1393,\n",
       " 1424,\n",
       " 1425,\n",
       " 1426,\n",
       " 1427,\n",
       " 1428,\n",
       " 1429,\n",
       " 1430,\n",
       " 1431,\n",
       " 1432,\n",
       " 1433,\n",
       " 1434,\n",
       " 1465,\n",
       " 1466,\n",
       " 1467,\n",
       " 1468,\n",
       " 1469,\n",
       " 1470,\n",
       " 1471,\n",
       " 1472,\n",
       " 1473,\n",
       " 1474,\n",
       " 1475,\n",
       " 1506,\n",
       " 1507,\n",
       " 1508,\n",
       " 1509,\n",
       " 1510,\n",
       " 1511,\n",
       " 1512,\n",
       " 1513,\n",
       " 1514,\n",
       " 1515,\n",
       " 1516,\n",
       " 1547,\n",
       " 1548,\n",
       " 1549,\n",
       " 1550,\n",
       " 1551,\n",
       " 1552,\n",
       " 1553,\n",
       " 1554,\n",
       " 1555,\n",
       " 1556,\n",
       " 1557,\n",
       " 1588,\n",
       " 1589,\n",
       " 1590,\n",
       " 1591,\n",
       " 1592,\n",
       " 1593,\n",
       " 1594,\n",
       " 1595,\n",
       " 1596,\n",
       " 1597,\n",
       " 1598,\n",
       " 1629,\n",
       " 1630,\n",
       " 1631,\n",
       " 1632,\n",
       " 1633,\n",
       " 1634,\n",
       " 1635,\n",
       " 1636,\n",
       " 1637,\n",
       " 1638,\n",
       " 1639,\n",
       " 1670,\n",
       " 1671,\n",
       " 1672,\n",
       " 1673,\n",
       " 1674,\n",
       " 1675,\n",
       " 1676,\n",
       " 1677,\n",
       " 1678,\n",
       " 1679,\n",
       " 1680]"
      ]
     },
     "execution_count": 25,
     "metadata": {},
     "output_type": "execute_result"
    }
   ],
   "source": [
    "min_err_indexes_b"
   ]
  },
  {
   "cell_type": "markdown",
   "id": "113e57a2",
   "metadata": {},
   "source": [
    "We are going to choose the minimum abs(w1) + abs(w2) values as w1 and w2."
   ]
  },
  {
   "cell_type": "code",
   "execution_count": 26,
   "id": "0dfc1a0a",
   "metadata": {},
   "outputs": [],
   "source": [
    "minimum = 4\n",
    "for i in range(len(min_err_indexes_b)):\n",
    "    if abs(df_b.iloc[min_err_indexes_b[i]][0]) + abs(df_b.iloc[min_err_indexes_b[i]][1]) < minimum:\n",
    "        minimum = abs(df_b.iloc[min_err_indexes_b[i]][0]) + abs(df_b.iloc[min_err_indexes_b[i]][1])\n",
    "        minimum_index_b = min_err_indexes_b[i]"
   ]
  },
  {
   "cell_type": "markdown",
   "id": "b7fd67ba",
   "metadata": {},
   "source": [
    "Minimum sum of abs(w1) and abs(w2) pair's is 2.0."
   ]
  },
  {
   "cell_type": "code",
   "execution_count": 27,
   "id": "8ec5c161",
   "metadata": {},
   "outputs": [
    {
     "data": {
      "text/plain": [
       "2.0"
      ]
     },
     "execution_count": 27,
     "metadata": {},
     "output_type": "execute_result"
    }
   ],
   "source": [
    "minimum"
   ]
  },
  {
   "cell_type": "markdown",
   "id": "f770ecde",
   "metadata": {},
   "source": [
    "And the index of this w1, w2 pair is 890."
   ]
  },
  {
   "cell_type": "code",
   "execution_count": 28,
   "id": "16bbb61a",
   "metadata": {},
   "outputs": [
    {
     "data": {
      "text/plain": [
       "1260"
      ]
     },
     "execution_count": 28,
     "metadata": {},
     "output_type": "execute_result"
    }
   ],
   "source": [
    "minimum_index_b"
   ]
  },
  {
   "cell_type": "markdown",
   "id": "01357517",
   "metadata": {},
   "source": [
    "#### Result For Section <b>\"b\"</b>"
   ]
  },
  {
   "cell_type": "markdown",
   "id": "c4351598",
   "metadata": {},
   "source": [
    "So, as we can see in below output best pair for <b>\"OR\"</b> logical operation is <b>w1 = 1.0</b>  and <b>w2 = 1.0</b>."
   ]
  },
  {
   "cell_type": "code",
   "execution_count": 29,
   "id": "3afae9c4",
   "metadata": {},
   "outputs": [
    {
     "data": {
      "text/plain": [
       "w1    1.0\n",
       "w2    1.0\n",
       "Name: 1260, dtype: float64"
      ]
     },
     "execution_count": 29,
     "metadata": {},
     "output_type": "execute_result"
    }
   ],
   "source": [
    "df_b.iloc[minimum_index_b][0:2]"
   ]
  },
  {
   "cell_type": "markdown",
   "id": "916d9feb",
   "metadata": {},
   "source": [
    "### b.III) Plotting"
   ]
  },
  {
   "cell_type": "code",
   "execution_count": 30,
   "id": "2cec0dc7",
   "metadata": {},
   "outputs": [
    {
     "data": {
      "image/png": "[encoded data removed]",
      "text/plain": [
       "<Figure size 576x576 with 1 Axes>"
      ]
     },
     "metadata": {
      "needs_background": "light"
     },
     "output_type": "display_data"
    }
   ],
   "source": [
    "fig = plt.figure(figsize = (8,8))\n",
    "ax = plt.axes(projection='3d')\n",
    "# ax.grid()\n",
    "# x1 = [0, 1]\n",
    "# x2 = [0, 1]\n",
    "# y = [0, 1]\n",
    "\n",
    "ax.plot3D(x1, x2, y_b)\n",
    "ax.set_title('3D Parametric Plot')\n",
    "\n",
    "#specify axis tick step sizes\n",
    "ax.set_xticks([0, 1])\n",
    "ax.set_yticks([0, 1])\n",
    "ax.set_zticks([0, 1])\n",
    "\n",
    "# Set axes label\n",
    "ax.set_xlabel('x1', labelpad=20)\n",
    "ax.set_ylabel('x2', labelpad=20)\n",
    "ax.set_zlabel('y', labelpad=20)\n",
    "\n",
    "plt.show()"
   ]
  },
  {
   "cell_type": "markdown",
   "id": "e4f95b48",
   "metadata": {},
   "source": [
    "<hr style=\"border:2px solid gray\"> </hr>"
   ]
  },
  {
   "cell_type": "markdown",
   "id": "0372af06",
   "metadata": {},
   "source": [
    "## c) NOT($x_1$) OR $x_2$"
   ]
  },
  {
   "cell_type": "markdown",
   "id": "2f2bb9f5",
   "metadata": {},
   "source": [
    "### c.I) Truth Table"
   ]
  },
  {
   "cell_type": "code",
   "execution_count": 31,
   "id": "58c6ff53",
   "metadata": {},
   "outputs": [
    {
     "name": "stdout",
     "output_type": "stream",
     "text": [
      "╒══════╤══════╤═════════════════╕\n",
      "│   x1 │   x2 │   NOT(x1) OR x2 │\n",
      "╞══════╪══════╪═════════════════╡\n",
      "│    0 │    0 │               1 │\n",
      "├──────┼──────┼─────────────────┤\n",
      "│    0 │    1 │               1 │\n",
      "├──────┼──────┼─────────────────┤\n",
      "│    1 │    0 │               1 │\n",
      "├──────┼──────┼─────────────────┤\n",
      "│    1 │    1 │               1 │\n",
      "╘══════╧══════╧═════════════════╛\n"
     ]
    }
   ],
   "source": [
    "print(tabulate({\"x1\": ['0', '0', '1', '1'], 'x2': ['0', '1', '0', '1'], 'NOT(x1) OR x2': [1, 1, 1, 1]}, headers=\"keys\", tablefmt='fancy_grid', missingval='N/A'))"
   ]
  },
  {
   "cell_type": "markdown",
   "id": "3f81cd8d",
   "metadata": {},
   "source": [
    "### c.II) Finding best 𝑤1 and 𝑤2"
   ]
  },
  {
   "cell_type": "markdown",
   "id": "fabb1408",
   "metadata": {},
   "source": [
    "We choose <b>w0</b> as <b>0</b> for <b>\"NOT(𝑥1) OR 𝑥2\"</b> logical operation."
   ]
  },
  {
   "cell_type": "code",
   "execution_count": 32,
   "id": "94785557",
   "metadata": {},
   "outputs": [],
   "source": [
    "y_hat_c = calculate_neuron(0)"
   ]
  },
  {
   "cell_type": "code",
   "execution_count": 33,
   "id": "0e0e7c74",
   "metadata": {},
   "outputs": [],
   "source": [
    "for i in range(len(y_hat_c)):\n",
    "    comparison = y_hat_c[i][2:6] == np.array(y_c)\n",
    "    y_hat_c[i].append(np.count_nonzero(comparison))"
   ]
  },
  {
   "cell_type": "code",
   "execution_count": 34,
   "id": "df8c7fc7",
   "metadata": {},
   "outputs": [],
   "source": [
    "df_c = pd.DataFrame(y_hat_c, columns =['w1','w2','y1_hat', 'y2_hat', 'y3_hat', 'y4_hat', 'True_Count'])"
   ]
  },
  {
   "cell_type": "code",
   "execution_count": 35,
   "id": "a635e1dd",
   "metadata": {},
   "outputs": [
    {
     "data": {
      "text/html": [
       "<div>\n",
       "<style scoped>\n",
       "    .dataframe tbody tr th:only-of-type {\n",
       "        vertical-align: middle;\n",
       "    }\n",
       "\n",
       "    .dataframe tbody tr th {\n",
       "        vertical-align: top;\n",
       "    }\n",
       "\n",
       "    .dataframe thead th {\n",
       "        text-align: right;\n",
       "    }\n",
       "</style>\n",
       "<table border=\"1\" class=\"dataframe\">\n",
       "  <thead>\n",
       "    <tr style=\"text-align: right;\">\n",
       "      <th></th>\n",
       "      <th>w1</th>\n",
       "      <th>w2</th>\n",
       "      <th>y1_hat</th>\n",
       "      <th>y2_hat</th>\n",
       "      <th>y3_hat</th>\n",
       "      <th>y4_hat</th>\n",
       "      <th>True_Count</th>\n",
       "    </tr>\n",
       "  </thead>\n",
       "  <tbody>\n",
       "    <tr>\n",
       "      <th>0</th>\n",
       "      <td>-2.0</td>\n",
       "      <td>-2.0</td>\n",
       "      <td>1</td>\n",
       "      <td>0</td>\n",
       "      <td>0</td>\n",
       "      <td>0</td>\n",
       "      <td>1</td>\n",
       "    </tr>\n",
       "    <tr>\n",
       "      <th>1</th>\n",
       "      <td>-2.0</td>\n",
       "      <td>-1.9</td>\n",
       "      <td>1</td>\n",
       "      <td>0</td>\n",
       "      <td>0</td>\n",
       "      <td>0</td>\n",
       "      <td>1</td>\n",
       "    </tr>\n",
       "    <tr>\n",
       "      <th>2</th>\n",
       "      <td>-2.0</td>\n",
       "      <td>-1.8</td>\n",
       "      <td>1</td>\n",
       "      <td>0</td>\n",
       "      <td>0</td>\n",
       "      <td>0</td>\n",
       "      <td>1</td>\n",
       "    </tr>\n",
       "    <tr>\n",
       "      <th>3</th>\n",
       "      <td>-2.0</td>\n",
       "      <td>-1.7</td>\n",
       "      <td>1</td>\n",
       "      <td>0</td>\n",
       "      <td>0</td>\n",
       "      <td>0</td>\n",
       "      <td>1</td>\n",
       "    </tr>\n",
       "    <tr>\n",
       "      <th>4</th>\n",
       "      <td>-2.0</td>\n",
       "      <td>-1.6</td>\n",
       "      <td>1</td>\n",
       "      <td>0</td>\n",
       "      <td>0</td>\n",
       "      <td>0</td>\n",
       "      <td>1</td>\n",
       "    </tr>\n",
       "    <tr>\n",
       "      <th>...</th>\n",
       "      <td>...</td>\n",
       "      <td>...</td>\n",
       "      <td>...</td>\n",
       "      <td>...</td>\n",
       "      <td>...</td>\n",
       "      <td>...</td>\n",
       "      <td>...</td>\n",
       "    </tr>\n",
       "    <tr>\n",
       "      <th>1676</th>\n",
       "      <td>2.0</td>\n",
       "      <td>1.6</td>\n",
       "      <td>1</td>\n",
       "      <td>1</td>\n",
       "      <td>1</td>\n",
       "      <td>1</td>\n",
       "      <td>4</td>\n",
       "    </tr>\n",
       "    <tr>\n",
       "      <th>1677</th>\n",
       "      <td>2.0</td>\n",
       "      <td>1.7</td>\n",
       "      <td>1</td>\n",
       "      <td>1</td>\n",
       "      <td>1</td>\n",
       "      <td>1</td>\n",
       "      <td>4</td>\n",
       "    </tr>\n",
       "    <tr>\n",
       "      <th>1678</th>\n",
       "      <td>2.0</td>\n",
       "      <td>1.8</td>\n",
       "      <td>1</td>\n",
       "      <td>1</td>\n",
       "      <td>1</td>\n",
       "      <td>1</td>\n",
       "      <td>4</td>\n",
       "    </tr>\n",
       "    <tr>\n",
       "      <th>1679</th>\n",
       "      <td>2.0</td>\n",
       "      <td>1.9</td>\n",
       "      <td>1</td>\n",
       "      <td>1</td>\n",
       "      <td>1</td>\n",
       "      <td>1</td>\n",
       "      <td>4</td>\n",
       "    </tr>\n",
       "    <tr>\n",
       "      <th>1680</th>\n",
       "      <td>2.0</td>\n",
       "      <td>2.0</td>\n",
       "      <td>1</td>\n",
       "      <td>1</td>\n",
       "      <td>1</td>\n",
       "      <td>1</td>\n",
       "      <td>4</td>\n",
       "    </tr>\n",
       "  </tbody>\n",
       "</table>\n",
       "<p>1681 rows × 7 columns</p>\n",
       "</div>"
      ],
      "text/plain": [
       "       w1   w2  y1_hat  y2_hat  y3_hat  y4_hat  True_Count\n",
       "0    -2.0 -2.0       1       0       0       0           1\n",
       "1    -2.0 -1.9       1       0       0       0           1\n",
       "2    -2.0 -1.8       1       0       0       0           1\n",
       "3    -2.0 -1.7       1       0       0       0           1\n",
       "4    -2.0 -1.6       1       0       0       0           1\n",
       "...   ...  ...     ...     ...     ...     ...         ...\n",
       "1676  2.0  1.6       1       1       1       1           4\n",
       "1677  2.0  1.7       1       1       1       1           4\n",
       "1678  2.0  1.8       1       1       1       1           4\n",
       "1679  2.0  1.9       1       1       1       1           4\n",
       "1680  2.0  2.0       1       1       1       1           4\n",
       "\n",
       "[1681 rows x 7 columns]"
      ]
     },
     "execution_count": 35,
     "metadata": {},
     "output_type": "execute_result"
    }
   ],
   "source": [
    "df_c"
   ]
  },
  {
   "cell_type": "code",
   "execution_count": 36,
   "id": "673c2e69",
   "metadata": {},
   "outputs": [
    {
     "data": {
      "text/plain": [
       "array([1, 2, 3, 4], dtype=int64)"
      ]
     },
     "execution_count": 36,
     "metadata": {},
     "output_type": "execute_result"
    }
   ],
   "source": [
    "df_c.True_Count.unique()"
   ]
  },
  {
   "cell_type": "code",
   "execution_count": 37,
   "id": "d3e9516d",
   "metadata": {},
   "outputs": [],
   "source": [
    "min_err_indexes_c = df_c.index[df_c['True_Count'] == 4].tolist()"
   ]
  },
  {
   "cell_type": "code",
   "execution_count": 38,
   "id": "0ff7d696",
   "metadata": {},
   "outputs": [
    {
     "data": {
      "text/plain": [
       "[840,\n",
       " 841,\n",
       " 842,\n",
       " 843,\n",
       " 844,\n",
       " 845,\n",
       " 846,\n",
       " 847,\n",
       " 848,\n",
       " 849,\n",
       " 850,\n",
       " 851,\n",
       " 852,\n",
       " 853,\n",
       " 854,\n",
       " 855,\n",
       " 856,\n",
       " 857,\n",
       " 858,\n",
       " 859,\n",
       " 860,\n",
       " 881,\n",
       " 882,\n",
       " 883,\n",
       " 884,\n",
       " 885,\n",
       " 886,\n",
       " 887,\n",
       " 888,\n",
       " 889,\n",
       " 890,\n",
       " 891,\n",
       " 892,\n",
       " 893,\n",
       " 894,\n",
       " 895,\n",
       " 896,\n",
       " 897,\n",
       " 898,\n",
       " 899,\n",
       " 900,\n",
       " 901,\n",
       " 922,\n",
       " 923,\n",
       " 924,\n",
       " 925,\n",
       " 926,\n",
       " 927,\n",
       " 928,\n",
       " 929,\n",
       " 930,\n",
       " 931,\n",
       " 932,\n",
       " 933,\n",
       " 934,\n",
       " 935,\n",
       " 936,\n",
       " 937,\n",
       " 938,\n",
       " 939,\n",
       " 940,\n",
       " 941,\n",
       " 942,\n",
       " 963,\n",
       " 964,\n",
       " 965,\n",
       " 966,\n",
       " 967,\n",
       " 968,\n",
       " 969,\n",
       " 970,\n",
       " 971,\n",
       " 972,\n",
       " 973,\n",
       " 974,\n",
       " 975,\n",
       " 976,\n",
       " 977,\n",
       " 978,\n",
       " 979,\n",
       " 980,\n",
       " 981,\n",
       " 982,\n",
       " 983,\n",
       " 1004,\n",
       " 1005,\n",
       " 1006,\n",
       " 1007,\n",
       " 1008,\n",
       " 1009,\n",
       " 1010,\n",
       " 1011,\n",
       " 1012,\n",
       " 1013,\n",
       " 1014,\n",
       " 1015,\n",
       " 1016,\n",
       " 1017,\n",
       " 1018,\n",
       " 1019,\n",
       " 1020,\n",
       " 1021,\n",
       " 1022,\n",
       " 1023,\n",
       " 1024,\n",
       " 1045,\n",
       " 1046,\n",
       " 1047,\n",
       " 1048,\n",
       " 1049,\n",
       " 1050,\n",
       " 1051,\n",
       " 1052,\n",
       " 1053,\n",
       " 1054,\n",
       " 1055,\n",
       " 1056,\n",
       " 1057,\n",
       " 1058,\n",
       " 1059,\n",
       " 1060,\n",
       " 1061,\n",
       " 1062,\n",
       " 1063,\n",
       " 1064,\n",
       " 1065,\n",
       " 1086,\n",
       " 1087,\n",
       " 1088,\n",
       " 1089,\n",
       " 1090,\n",
       " 1091,\n",
       " 1092,\n",
       " 1093,\n",
       " 1094,\n",
       " 1095,\n",
       " 1096,\n",
       " 1097,\n",
       " 1098,\n",
       " 1099,\n",
       " 1100,\n",
       " 1101,\n",
       " 1102,\n",
       " 1103,\n",
       " 1104,\n",
       " 1105,\n",
       " 1106,\n",
       " 1127,\n",
       " 1128,\n",
       " 1129,\n",
       " 1130,\n",
       " 1131,\n",
       " 1132,\n",
       " 1133,\n",
       " 1134,\n",
       " 1135,\n",
       " 1136,\n",
       " 1137,\n",
       " 1138,\n",
       " 1139,\n",
       " 1140,\n",
       " 1141,\n",
       " 1142,\n",
       " 1143,\n",
       " 1144,\n",
       " 1145,\n",
       " 1146,\n",
       " 1147,\n",
       " 1168,\n",
       " 1169,\n",
       " 1170,\n",
       " 1171,\n",
       " 1172,\n",
       " 1173,\n",
       " 1174,\n",
       " 1175,\n",
       " 1176,\n",
       " 1177,\n",
       " 1178,\n",
       " 1179,\n",
       " 1180,\n",
       " 1181,\n",
       " 1182,\n",
       " 1183,\n",
       " 1184,\n",
       " 1185,\n",
       " 1186,\n",
       " 1187,\n",
       " 1188,\n",
       " 1209,\n",
       " 1210,\n",
       " 1211,\n",
       " 1212,\n",
       " 1213,\n",
       " 1214,\n",
       " 1215,\n",
       " 1216,\n",
       " 1217,\n",
       " 1218,\n",
       " 1219,\n",
       " 1220,\n",
       " 1221,\n",
       " 1222,\n",
       " 1223,\n",
       " 1224,\n",
       " 1225,\n",
       " 1226,\n",
       " 1227,\n",
       " 1228,\n",
       " 1229,\n",
       " 1250,\n",
       " 1251,\n",
       " 1252,\n",
       " 1253,\n",
       " 1254,\n",
       " 1255,\n",
       " 1256,\n",
       " 1257,\n",
       " 1258,\n",
       " 1259,\n",
       " 1260,\n",
       " 1261,\n",
       " 1262,\n",
       " 1263,\n",
       " 1264,\n",
       " 1265,\n",
       " 1266,\n",
       " 1267,\n",
       " 1268,\n",
       " 1269,\n",
       " 1270,\n",
       " 1291,\n",
       " 1292,\n",
       " 1293,\n",
       " 1294,\n",
       " 1295,\n",
       " 1296,\n",
       " 1297,\n",
       " 1298,\n",
       " 1299,\n",
       " 1300,\n",
       " 1301,\n",
       " 1302,\n",
       " 1303,\n",
       " 1304,\n",
       " 1305,\n",
       " 1306,\n",
       " 1307,\n",
       " 1308,\n",
       " 1309,\n",
       " 1310,\n",
       " 1311,\n",
       " 1332,\n",
       " 1333,\n",
       " 1334,\n",
       " 1335,\n",
       " 1336,\n",
       " 1337,\n",
       " 1338,\n",
       " 1339,\n",
       " 1340,\n",
       " 1341,\n",
       " 1342,\n",
       " 1343,\n",
       " 1344,\n",
       " 1345,\n",
       " 1346,\n",
       " 1347,\n",
       " 1348,\n",
       " 1349,\n",
       " 1350,\n",
       " 1351,\n",
       " 1352,\n",
       " 1373,\n",
       " 1374,\n",
       " 1375,\n",
       " 1376,\n",
       " 1377,\n",
       " 1378,\n",
       " 1379,\n",
       " 1380,\n",
       " 1381,\n",
       " 1382,\n",
       " 1383,\n",
       " 1384,\n",
       " 1385,\n",
       " 1386,\n",
       " 1387,\n",
       " 1388,\n",
       " 1389,\n",
       " 1390,\n",
       " 1391,\n",
       " 1392,\n",
       " 1393,\n",
       " 1414,\n",
       " 1415,\n",
       " 1416,\n",
       " 1417,\n",
       " 1418,\n",
       " 1419,\n",
       " 1420,\n",
       " 1421,\n",
       " 1422,\n",
       " 1423,\n",
       " 1424,\n",
       " 1425,\n",
       " 1426,\n",
       " 1427,\n",
       " 1428,\n",
       " 1429,\n",
       " 1430,\n",
       " 1431,\n",
       " 1432,\n",
       " 1433,\n",
       " 1434,\n",
       " 1455,\n",
       " 1456,\n",
       " 1457,\n",
       " 1458,\n",
       " 1459,\n",
       " 1460,\n",
       " 1461,\n",
       " 1462,\n",
       " 1463,\n",
       " 1464,\n",
       " 1465,\n",
       " 1466,\n",
       " 1467,\n",
       " 1468,\n",
       " 1469,\n",
       " 1470,\n",
       " 1471,\n",
       " 1472,\n",
       " 1473,\n",
       " 1474,\n",
       " 1475,\n",
       " 1496,\n",
       " 1497,\n",
       " 1498,\n",
       " 1499,\n",
       " 1500,\n",
       " 1501,\n",
       " 1502,\n",
       " 1503,\n",
       " 1504,\n",
       " 1505,\n",
       " 1506,\n",
       " 1507,\n",
       " 1508,\n",
       " 1509,\n",
       " 1510,\n",
       " 1511,\n",
       " 1512,\n",
       " 1513,\n",
       " 1514,\n",
       " 1515,\n",
       " 1516,\n",
       " 1537,\n",
       " 1538,\n",
       " 1539,\n",
       " 1540,\n",
       " 1541,\n",
       " 1542,\n",
       " 1543,\n",
       " 1544,\n",
       " 1545,\n",
       " 1546,\n",
       " 1547,\n",
       " 1548,\n",
       " 1549,\n",
       " 1550,\n",
       " 1551,\n",
       " 1552,\n",
       " 1553,\n",
       " 1554,\n",
       " 1555,\n",
       " 1556,\n",
       " 1557,\n",
       " 1578,\n",
       " 1579,\n",
       " 1580,\n",
       " 1581,\n",
       " 1582,\n",
       " 1583,\n",
       " 1584,\n",
       " 1585,\n",
       " 1586,\n",
       " 1587,\n",
       " 1588,\n",
       " 1589,\n",
       " 1590,\n",
       " 1591,\n",
       " 1592,\n",
       " 1593,\n",
       " 1594,\n",
       " 1595,\n",
       " 1596,\n",
       " 1597,\n",
       " 1598,\n",
       " 1619,\n",
       " 1620,\n",
       " 1621,\n",
       " 1622,\n",
       " 1623,\n",
       " 1624,\n",
       " 1625,\n",
       " 1626,\n",
       " 1627,\n",
       " 1628,\n",
       " 1629,\n",
       " 1630,\n",
       " 1631,\n",
       " 1632,\n",
       " 1633,\n",
       " 1634,\n",
       " 1635,\n",
       " 1636,\n",
       " 1637,\n",
       " 1638,\n",
       " 1639,\n",
       " 1660,\n",
       " 1661,\n",
       " 1662,\n",
       " 1663,\n",
       " 1664,\n",
       " 1665,\n",
       " 1666,\n",
       " 1667,\n",
       " 1668,\n",
       " 1669,\n",
       " 1670,\n",
       " 1671,\n",
       " 1672,\n",
       " 1673,\n",
       " 1674,\n",
       " 1675,\n",
       " 1676,\n",
       " 1677,\n",
       " 1678,\n",
       " 1679,\n",
       " 1680]"
      ]
     },
     "execution_count": 38,
     "metadata": {},
     "output_type": "execute_result"
    }
   ],
   "source": [
    "min_err_indexes_c"
   ]
  },
  {
   "cell_type": "markdown",
   "id": "6b6c2b9a",
   "metadata": {},
   "source": [
    "We are going to choose the minimum abs(w1) + abs(w2) values as w1 and w2."
   ]
  },
  {
   "cell_type": "code",
   "execution_count": 39,
   "id": "c94406de",
   "metadata": {},
   "outputs": [],
   "source": [
    "minimum = 4\n",
    "for i in range(len(min_err_indexes_c)):\n",
    "    if abs(df_c.iloc[min_err_indexes_c[i]][0]) + abs(df_c.iloc[min_err_indexes_c[i]][1]) < minimum:\n",
    "        minimum = abs(df_c.iloc[min_err_indexes_c[i]][0]) + abs(df_c.iloc[min_err_indexes_c[i]][1])\n",
    "        minimum_index_c = min_err_indexes_c[i]"
   ]
  },
  {
   "cell_type": "markdown",
   "id": "f9e3dd88",
   "metadata": {},
   "source": [
    "Minimum sum of abs(w1) and abs(w2) pair's is 0.0."
   ]
  },
  {
   "cell_type": "code",
   "execution_count": 40,
   "id": "238e90b9",
   "metadata": {},
   "outputs": [
    {
     "data": {
      "text/plain": [
       "0.0"
      ]
     },
     "execution_count": 40,
     "metadata": {},
     "output_type": "execute_result"
    }
   ],
   "source": [
    "minimum"
   ]
  },
  {
   "cell_type": "markdown",
   "id": "b85ee513",
   "metadata": {},
   "source": [
    "And the index of this w1, w2 pair is 840."
   ]
  },
  {
   "cell_type": "code",
   "execution_count": 41,
   "id": "ee3d6bfe",
   "metadata": {},
   "outputs": [
    {
     "data": {
      "text/plain": [
       "840"
      ]
     },
     "execution_count": 41,
     "metadata": {},
     "output_type": "execute_result"
    }
   ],
   "source": [
    "minimum_index_c"
   ]
  },
  {
   "cell_type": "markdown",
   "id": "992c3801",
   "metadata": {},
   "source": [
    "#### Result For Section <b>\"c\"</b>"
   ]
  },
  {
   "cell_type": "markdown",
   "id": "587ff3e9",
   "metadata": {},
   "source": [
    "So, as we can see in below output best pair for <b>\"NOT(𝑥1) OR 𝑥2\"</b> logical operation is <b>w1 = 0.0</b>  and <b>w2 = 0.0</b>."
   ]
  },
  {
   "cell_type": "code",
   "execution_count": 42,
   "id": "3afae9c4",
   "metadata": {},
   "outputs": [
    {
     "data": {
      "text/plain": [
       "w1    0.0\n",
       "w2    0.0\n",
       "Name: 840, dtype: float64"
      ]
     },
     "execution_count": 42,
     "metadata": {},
     "output_type": "execute_result"
    }
   ],
   "source": [
    "df_c.iloc[minimum_index_c][0:2]"
   ]
  },
  {
   "cell_type": "markdown",
   "id": "916d9feb",
   "metadata": {},
   "source": [
    "### c.III) Plotting"
   ]
  },
  {
   "cell_type": "code",
   "execution_count": 43,
   "id": "2cec0dc7",
   "metadata": {},
   "outputs": [
    {
     "data": {
      "image/png": "[encoded data removed]",
      "text/plain": [
       "<Figure size 576x576 with 1 Axes>"
      ]
     },
     "metadata": {
      "needs_background": "light"
     },
     "output_type": "display_data"
    }
   ],
   "source": [
    "fig = plt.figure(figsize = (8,8))\n",
    "ax = plt.axes(projection='3d')\n",
    "# ax.grid()\n",
    "# x1 = [0, 1]\n",
    "# x2 = [0, 1]\n",
    "# y = [0, 1]\n",
    "\n",
    "ax.plot3D(x1, x2, y_c)\n",
    "ax.set_title('3D Parametric Plot')\n",
    "\n",
    "#specify axis tick step sizes\n",
    "ax.set_xticks([0, 1])\n",
    "ax.set_yticks([0, 1])\n",
    "ax.set_zticks([0, 1])\n",
    "\n",
    "# Set axes label\n",
    "ax.set_xlabel('x1', labelpad=20)\n",
    "ax.set_ylabel('x2', labelpad=20)\n",
    "ax.set_zlabel('y', labelpad=20)\n",
    "\n",
    "plt.show()"
   ]
  },
  {
   "cell_type": "markdown",
   "id": "f1dc4931",
   "metadata": {},
   "source": [
    "<hr style=\"border:2px solid gray\"> </hr>"
   ]
  },
  {
   "cell_type": "markdown",
   "id": "815c0720",
   "metadata": {},
   "source": [
    "## d) $x_1$ XOR $x_2$"
   ]
  },
  {
   "cell_type": "markdown",
   "id": "784addab",
   "metadata": {},
   "source": [
    "### d.I) Truth Table"
   ]
  },
  {
   "cell_type": "code",
   "execution_count": 44,
   "id": "ac1a038e",
   "metadata": {},
   "outputs": [
    {
     "name": "stdout",
     "output_type": "stream",
     "text": [
      "╒══════╤══════╤═════════════╕\n",
      "│   x1 │   x2 │   x1 XOR x2 │\n",
      "╞══════╪══════╪═════════════╡\n",
      "│    0 │    0 │           0 │\n",
      "├──────┼──────┼─────────────┤\n",
      "│    0 │    1 │           1 │\n",
      "├──────┼──────┼─────────────┤\n",
      "│    1 │    0 │           1 │\n",
      "├──────┼──────┼─────────────┤\n",
      "│    1 │    1 │           0 │\n",
      "╘══════╧══════╧═════════════╛\n"
     ]
    }
   ],
   "source": [
    "print(tabulate({\"x1\": ['0', '0', '1', '1'], 'x2': ['0', '1', '0', '1'], 'x1 XOR x2': ['0', '1', '1', '0']}, headers=\"keys\", tablefmt='fancy_grid', missingval='N/A'))"
   ]
  },
  {
   "cell_type": "markdown",
   "id": "bee103b6",
   "metadata": {},
   "source": [
    "### d.II) Finding best 𝑤1 and 𝑤2"
   ]
  },
  {
   "cell_type": "markdown",
   "id": "6018f5b1",
   "metadata": {},
   "source": [
    "We choose <b>w0</b> as <b>-1</b> for <b>\"XOR\"</b> logical operation."
   ]
  },
  {
   "cell_type": "code",
   "execution_count": 45,
   "id": "37128fc9",
   "metadata": {},
   "outputs": [],
   "source": [
    "y_hat_d = calculate_neuron(-1)"
   ]
  },
  {
   "cell_type": "code",
   "execution_count": 46,
   "id": "898f4cd7",
   "metadata": {},
   "outputs": [],
   "source": [
    "for i in range(len(y_hat_d)):\n",
    "    comparison = y_hat_d[i][2:6] == np.array(y_d)\n",
    "    y_hat_d[i].append(np.count_nonzero(comparison))"
   ]
  },
  {
   "cell_type": "code",
   "execution_count": 47,
   "id": "ee2c60a8",
   "metadata": {},
   "outputs": [],
   "source": [
    "df_d = pd.DataFrame(y_hat_d, columns =['w1','w2','y1_hat', 'y2_hat', 'y3_hat', 'y4_hat', 'True_Count'])"
   ]
  },
  {
   "cell_type": "code",
   "execution_count": 48,
   "id": "2f2b09ab",
   "metadata": {},
   "outputs": [
    {
     "data": {
      "text/html": [
       "<div>\n",
       "<style scoped>\n",
       "    .dataframe tbody tr th:only-of-type {\n",
       "        vertical-align: middle;\n",
       "    }\n",
       "\n",
       "    .dataframe tbody tr th {\n",
       "        vertical-align: top;\n",
       "    }\n",
       "\n",
       "    .dataframe thead th {\n",
       "        text-align: right;\n",
       "    }\n",
       "</style>\n",
       "<table border=\"1\" class=\"dataframe\">\n",
       "  <thead>\n",
       "    <tr style=\"text-align: right;\">\n",
       "      <th></th>\n",
       "      <th>w1</th>\n",
       "      <th>w2</th>\n",
       "      <th>y1_hat</th>\n",
       "      <th>y2_hat</th>\n",
       "      <th>y3_hat</th>\n",
       "      <th>y4_hat</th>\n",
       "      <th>True_Count</th>\n",
       "    </tr>\n",
       "  </thead>\n",
       "  <tbody>\n",
       "    <tr>\n",
       "      <th>0</th>\n",
       "      <td>-2.0</td>\n",
       "      <td>-2.0</td>\n",
       "      <td>0</td>\n",
       "      <td>0</td>\n",
       "      <td>0</td>\n",
       "      <td>0</td>\n",
       "      <td>2</td>\n",
       "    </tr>\n",
       "    <tr>\n",
       "      <th>1</th>\n",
       "      <td>-2.0</td>\n",
       "      <td>-1.9</td>\n",
       "      <td>0</td>\n",
       "      <td>0</td>\n",
       "      <td>0</td>\n",
       "      <td>0</td>\n",
       "      <td>2</td>\n",
       "    </tr>\n",
       "    <tr>\n",
       "      <th>2</th>\n",
       "      <td>-2.0</td>\n",
       "      <td>-1.8</td>\n",
       "      <td>0</td>\n",
       "      <td>0</td>\n",
       "      <td>0</td>\n",
       "      <td>0</td>\n",
       "      <td>2</td>\n",
       "    </tr>\n",
       "    <tr>\n",
       "      <th>3</th>\n",
       "      <td>-2.0</td>\n",
       "      <td>-1.7</td>\n",
       "      <td>0</td>\n",
       "      <td>0</td>\n",
       "      <td>0</td>\n",
       "      <td>0</td>\n",
       "      <td>2</td>\n",
       "    </tr>\n",
       "    <tr>\n",
       "      <th>4</th>\n",
       "      <td>-2.0</td>\n",
       "      <td>-1.6</td>\n",
       "      <td>0</td>\n",
       "      <td>0</td>\n",
       "      <td>0</td>\n",
       "      <td>0</td>\n",
       "      <td>2</td>\n",
       "    </tr>\n",
       "    <tr>\n",
       "      <th>...</th>\n",
       "      <td>...</td>\n",
       "      <td>...</td>\n",
       "      <td>...</td>\n",
       "      <td>...</td>\n",
       "      <td>...</td>\n",
       "      <td>...</td>\n",
       "      <td>...</td>\n",
       "    </tr>\n",
       "    <tr>\n",
       "      <th>1676</th>\n",
       "      <td>2.0</td>\n",
       "      <td>1.6</td>\n",
       "      <td>0</td>\n",
       "      <td>1</td>\n",
       "      <td>1</td>\n",
       "      <td>1</td>\n",
       "      <td>3</td>\n",
       "    </tr>\n",
       "    <tr>\n",
       "      <th>1677</th>\n",
       "      <td>2.0</td>\n",
       "      <td>1.7</td>\n",
       "      <td>0</td>\n",
       "      <td>1</td>\n",
       "      <td>1</td>\n",
       "      <td>1</td>\n",
       "      <td>3</td>\n",
       "    </tr>\n",
       "    <tr>\n",
       "      <th>1678</th>\n",
       "      <td>2.0</td>\n",
       "      <td>1.8</td>\n",
       "      <td>0</td>\n",
       "      <td>1</td>\n",
       "      <td>1</td>\n",
       "      <td>1</td>\n",
       "      <td>3</td>\n",
       "    </tr>\n",
       "    <tr>\n",
       "      <th>1679</th>\n",
       "      <td>2.0</td>\n",
       "      <td>1.9</td>\n",
       "      <td>0</td>\n",
       "      <td>1</td>\n",
       "      <td>1</td>\n",
       "      <td>1</td>\n",
       "      <td>3</td>\n",
       "    </tr>\n",
       "    <tr>\n",
       "      <th>1680</th>\n",
       "      <td>2.0</td>\n",
       "      <td>2.0</td>\n",
       "      <td>0</td>\n",
       "      <td>1</td>\n",
       "      <td>1</td>\n",
       "      <td>1</td>\n",
       "      <td>3</td>\n",
       "    </tr>\n",
       "  </tbody>\n",
       "</table>\n",
       "<p>1681 rows × 7 columns</p>\n",
       "</div>"
      ],
      "text/plain": [
       "       w1   w2  y1_hat  y2_hat  y3_hat  y4_hat  True_Count\n",
       "0    -2.0 -2.0       0       0       0       0           2\n",
       "1    -2.0 -1.9       0       0       0       0           2\n",
       "2    -2.0 -1.8       0       0       0       0           2\n",
       "3    -2.0 -1.7       0       0       0       0           2\n",
       "4    -2.0 -1.6       0       0       0       0           2\n",
       "...   ...  ...     ...     ...     ...     ...         ...\n",
       "1676  2.0  1.6       0       1       1       1           3\n",
       "1677  2.0  1.7       0       1       1       1           3\n",
       "1678  2.0  1.8       0       1       1       1           3\n",
       "1679  2.0  1.9       0       1       1       1           3\n",
       "1680  2.0  2.0       0       1       1       1           3\n",
       "\n",
       "[1681 rows x 7 columns]"
      ]
     },
     "execution_count": 48,
     "metadata": {},
     "output_type": "execute_result"
    }
   ],
   "source": [
    "df_d"
   ]
  },
  {
   "cell_type": "code",
   "execution_count": 49,
   "id": "3a86c9cb",
   "metadata": {},
   "outputs": [
    {
     "data": {
      "text/plain": [
       "array([2, 3, 1], dtype=int64)"
      ]
     },
     "execution_count": 49,
     "metadata": {},
     "output_type": "execute_result"
    }
   ],
   "source": [
    "df_d.True_Count.unique()"
   ]
  },
  {
   "cell_type": "code",
   "execution_count": 50,
   "id": "8923909f",
   "metadata": {},
   "outputs": [],
   "source": [
    "min_err_indexes_d = df_d.index[df_d['True_Count'] == 3].tolist()"
   ]
  },
  {
   "cell_type": "code",
   "execution_count": 51,
   "id": "7453c835",
   "metadata": {},
   "outputs": [
    {
     "data": {
      "text/plain": [
       "[30,\n",
       " 31,\n",
       " 32,\n",
       " 33,\n",
       " 34,\n",
       " 35,\n",
       " 36,\n",
       " 37,\n",
       " 38,\n",
       " 39,\n",
       " 40,\n",
       " 71,\n",
       " 72,\n",
       " 73,\n",
       " 74,\n",
       " 75,\n",
       " 76,\n",
       " 77,\n",
       " 78,\n",
       " 79,\n",
       " 80,\n",
       " 81,\n",
       " 112,\n",
       " 113,\n",
       " 114,\n",
       " 115,\n",
       " 116,\n",
       " 117,\n",
       " 118,\n",
       " 119,\n",
       " 120,\n",
       " 121,\n",
       " 122,\n",
       " 153,\n",
       " 154,\n",
       " 155,\n",
       " 156,\n",
       " 157,\n",
       " 158,\n",
       " 159,\n",
       " 160,\n",
       " 161,\n",
       " 162,\n",
       " 163,\n",
       " 194,\n",
       " 195,\n",
       " 196,\n",
       " 197,\n",
       " 198,\n",
       " 199,\n",
       " 200,\n",
       " 201,\n",
       " 202,\n",
       " 203,\n",
       " 204,\n",
       " 235,\n",
       " 236,\n",
       " 237,\n",
       " 238,\n",
       " 239,\n",
       " 240,\n",
       " 241,\n",
       " 242,\n",
       " 243,\n",
       " 244,\n",
       " 245,\n",
       " 276,\n",
       " 277,\n",
       " 278,\n",
       " 279,\n",
       " 280,\n",
       " 281,\n",
       " 282,\n",
       " 283,\n",
       " 284,\n",
       " 285,\n",
       " 286,\n",
       " 317,\n",
       " 318,\n",
       " 319,\n",
       " 320,\n",
       " 321,\n",
       " 322,\n",
       " 323,\n",
       " 324,\n",
       " 325,\n",
       " 326,\n",
       " 327,\n",
       " 358,\n",
       " 359,\n",
       " 360,\n",
       " 361,\n",
       " 362,\n",
       " 363,\n",
       " 364,\n",
       " 365,\n",
       " 366,\n",
       " 367,\n",
       " 368,\n",
       " 399,\n",
       " 400,\n",
       " 401,\n",
       " 402,\n",
       " 403,\n",
       " 404,\n",
       " 405,\n",
       " 406,\n",
       " 407,\n",
       " 408,\n",
       " 409,\n",
       " 440,\n",
       " 441,\n",
       " 442,\n",
       " 443,\n",
       " 444,\n",
       " 445,\n",
       " 446,\n",
       " 447,\n",
       " 448,\n",
       " 449,\n",
       " 481,\n",
       " 482,\n",
       " 483,\n",
       " 484,\n",
       " 485,\n",
       " 486,\n",
       " 487,\n",
       " 488,\n",
       " 489,\n",
       " 490,\n",
       " 522,\n",
       " 523,\n",
       " 524,\n",
       " 525,\n",
       " 526,\n",
       " 527,\n",
       " 528,\n",
       " 529,\n",
       " 563,\n",
       " 564,\n",
       " 565,\n",
       " 566,\n",
       " 567,\n",
       " 568,\n",
       " 569,\n",
       " 604,\n",
       " 605,\n",
       " 606,\n",
       " 607,\n",
       " 608,\n",
       " 609,\n",
       " 645,\n",
       " 646,\n",
       " 647,\n",
       " 648,\n",
       " 649,\n",
       " 686,\n",
       " 687,\n",
       " 688,\n",
       " 689,\n",
       " 690,\n",
       " 727,\n",
       " 728,\n",
       " 729,\n",
       " 768,\n",
       " 769,\n",
       " 809,\n",
       " 1230,\n",
       " 1231,\n",
       " 1232,\n",
       " 1233,\n",
       " 1234,\n",
       " 1235,\n",
       " 1236,\n",
       " 1237,\n",
       " 1238,\n",
       " 1239,\n",
       " 1240,\n",
       " 1241,\n",
       " 1242,\n",
       " 1243,\n",
       " 1244,\n",
       " 1245,\n",
       " 1246,\n",
       " 1247,\n",
       " 1248,\n",
       " 1249,\n",
       " 1260,\n",
       " 1261,\n",
       " 1262,\n",
       " 1263,\n",
       " 1264,\n",
       " 1265,\n",
       " 1266,\n",
       " 1267,\n",
       " 1268,\n",
       " 1269,\n",
       " 1270,\n",
       " 1271,\n",
       " 1272,\n",
       " 1273,\n",
       " 1274,\n",
       " 1275,\n",
       " 1276,\n",
       " 1277,\n",
       " 1278,\n",
       " 1279,\n",
       " 1280,\n",
       " 1281,\n",
       " 1282,\n",
       " 1283,\n",
       " 1284,\n",
       " 1285,\n",
       " 1286,\n",
       " 1287,\n",
       " 1288,\n",
       " 1289,\n",
       " 1301,\n",
       " 1302,\n",
       " 1303,\n",
       " 1304,\n",
       " 1305,\n",
       " 1306,\n",
       " 1307,\n",
       " 1308,\n",
       " 1309,\n",
       " 1310,\n",
       " 1311,\n",
       " 1312,\n",
       " 1313,\n",
       " 1314,\n",
       " 1315,\n",
       " 1316,\n",
       " 1317,\n",
       " 1318,\n",
       " 1319,\n",
       " 1320,\n",
       " 1321,\n",
       " 1322,\n",
       " 1323,\n",
       " 1324,\n",
       " 1325,\n",
       " 1326,\n",
       " 1327,\n",
       " 1328,\n",
       " 1329,\n",
       " 1342,\n",
       " 1343,\n",
       " 1344,\n",
       " 1345,\n",
       " 1346,\n",
       " 1347,\n",
       " 1348,\n",
       " 1349,\n",
       " 1350,\n",
       " 1351,\n",
       " 1352,\n",
       " 1353,\n",
       " 1354,\n",
       " 1355,\n",
       " 1356,\n",
       " 1357,\n",
       " 1358,\n",
       " 1359,\n",
       " 1360,\n",
       " 1361,\n",
       " 1362,\n",
       " 1363,\n",
       " 1364,\n",
       " 1365,\n",
       " 1366,\n",
       " 1367,\n",
       " 1368,\n",
       " 1369,\n",
       " 1383,\n",
       " 1384,\n",
       " 1385,\n",
       " 1386,\n",
       " 1387,\n",
       " 1388,\n",
       " 1389,\n",
       " 1390,\n",
       " 1391,\n",
       " 1392,\n",
       " 1393,\n",
       " 1394,\n",
       " 1395,\n",
       " 1396,\n",
       " 1397,\n",
       " 1398,\n",
       " 1399,\n",
       " 1400,\n",
       " 1401,\n",
       " 1402,\n",
       " 1403,\n",
       " 1404,\n",
       " 1405,\n",
       " 1406,\n",
       " 1407,\n",
       " 1408,\n",
       " 1409,\n",
       " 1410,\n",
       " 1424,\n",
       " 1425,\n",
       " 1426,\n",
       " 1427,\n",
       " 1428,\n",
       " 1429,\n",
       " 1430,\n",
       " 1431,\n",
       " 1432,\n",
       " 1433,\n",
       " 1434,\n",
       " 1435,\n",
       " 1436,\n",
       " 1437,\n",
       " 1438,\n",
       " 1439,\n",
       " 1440,\n",
       " 1441,\n",
       " 1442,\n",
       " 1443,\n",
       " 1444,\n",
       " 1445,\n",
       " 1446,\n",
       " 1447,\n",
       " 1448,\n",
       " 1449,\n",
       " 1465,\n",
       " 1466,\n",
       " 1467,\n",
       " 1468,\n",
       " 1469,\n",
       " 1470,\n",
       " 1471,\n",
       " 1472,\n",
       " 1473,\n",
       " 1474,\n",
       " 1475,\n",
       " 1476,\n",
       " 1477,\n",
       " 1478,\n",
       " 1479,\n",
       " 1480,\n",
       " 1481,\n",
       " 1482,\n",
       " 1483,\n",
       " 1484,\n",
       " 1485,\n",
       " 1486,\n",
       " 1487,\n",
       " 1488,\n",
       " 1489,\n",
       " 1506,\n",
       " 1507,\n",
       " 1508,\n",
       " 1509,\n",
       " 1510,\n",
       " 1511,\n",
       " 1512,\n",
       " 1513,\n",
       " 1514,\n",
       " 1515,\n",
       " 1516,\n",
       " 1517,\n",
       " 1518,\n",
       " 1519,\n",
       " 1520,\n",
       " 1521,\n",
       " 1522,\n",
       " 1523,\n",
       " 1524,\n",
       " 1525,\n",
       " 1526,\n",
       " 1527,\n",
       " 1528,\n",
       " 1529,\n",
       " 1547,\n",
       " 1548,\n",
       " 1549,\n",
       " 1550,\n",
       " 1551,\n",
       " 1552,\n",
       " 1553,\n",
       " 1554,\n",
       " 1555,\n",
       " 1556,\n",
       " 1557,\n",
       " 1558,\n",
       " 1559,\n",
       " 1560,\n",
       " 1561,\n",
       " 1562,\n",
       " 1563,\n",
       " 1564,\n",
       " 1565,\n",
       " 1566,\n",
       " 1567,\n",
       " 1568,\n",
       " 1569,\n",
       " 1588,\n",
       " 1589,\n",
       " 1590,\n",
       " 1591,\n",
       " 1592,\n",
       " 1593,\n",
       " 1594,\n",
       " 1595,\n",
       " 1596,\n",
       " 1597,\n",
       " 1598,\n",
       " 1599,\n",
       " 1600,\n",
       " 1601,\n",
       " 1602,\n",
       " 1603,\n",
       " 1604,\n",
       " 1605,\n",
       " 1606,\n",
       " 1607,\n",
       " 1608,\n",
       " 1609,\n",
       " 1610,\n",
       " 1629,\n",
       " 1630,\n",
       " 1631,\n",
       " 1632,\n",
       " 1633,\n",
       " 1634,\n",
       " 1635,\n",
       " 1636,\n",
       " 1637,\n",
       " 1638,\n",
       " 1639,\n",
       " 1640,\n",
       " 1641,\n",
       " 1642,\n",
       " 1643,\n",
       " 1644,\n",
       " 1645,\n",
       " 1646,\n",
       " 1647,\n",
       " 1648,\n",
       " 1649,\n",
       " 1670,\n",
       " 1671,\n",
       " 1672,\n",
       " 1673,\n",
       " 1674,\n",
       " 1675,\n",
       " 1676,\n",
       " 1677,\n",
       " 1678,\n",
       " 1679,\n",
       " 1680]"
      ]
     },
     "execution_count": 51,
     "metadata": {},
     "output_type": "execute_result"
    }
   ],
   "source": [
    "min_err_indexes_d"
   ]
  },
  {
   "cell_type": "markdown",
   "id": "6b6c2b9a",
   "metadata": {},
   "source": [
    "We are going to choose the minimum abs(w1) + abs(w2) values as w1 and w2."
   ]
  },
  {
   "cell_type": "code",
   "execution_count": 52,
   "id": "c94406de",
   "metadata": {},
   "outputs": [],
   "source": [
    "minimum = 4\n",
    "for i in range(len(min_err_indexes_d)):\n",
    "    if abs(df_d.iloc[min_err_indexes_d[i]][0]) + abs(df_d.iloc[min_err_indexes_d[i]][1]) < minimum:\n",
    "        minimum = abs(df_d.iloc[min_err_indexes_d[i]][0]) + abs(df_d.iloc[min_err_indexes_d[i]][1])\n",
    "        minimum_index_d = min_err_indexes_d[i]"
   ]
  },
  {
   "cell_type": "markdown",
   "id": "f9e3dd88",
   "metadata": {},
   "source": [
    "Minimum sum of abs(w1) and abs(w2) pair's is 1.1."
   ]
  },
  {
   "cell_type": "code",
   "execution_count": 53,
   "id": "238e90b9",
   "metadata": {},
   "outputs": [
    {
     "data": {
      "text/plain": [
       "1.1"
      ]
     },
     "execution_count": 53,
     "metadata": {},
     "output_type": "execute_result"
    }
   ],
   "source": [
    "minimum"
   ]
  },
  {
   "cell_type": "markdown",
   "id": "b85ee513",
   "metadata": {},
   "source": [
    "And the index of this w1, w2 pair is 809."
   ]
  },
  {
   "cell_type": "code",
   "execution_count": 54,
   "id": "ee3d6bfe",
   "metadata": {},
   "outputs": [
    {
     "data": {
      "text/plain": [
       "809"
      ]
     },
     "execution_count": 54,
     "metadata": {},
     "output_type": "execute_result"
    }
   ],
   "source": [
    "minimum_index_d"
   ]
  },
  {
   "cell_type": "markdown",
   "id": "3b4aca2b",
   "metadata": {},
   "source": [
    "#### Result For Section <b>\"d\"</b>"
   ]
  },
  {
   "cell_type": "markdown",
   "id": "587ff3e9",
   "metadata": {},
   "source": [
    "So, as we can see in below output best pair for <b>\"𝑥1 XOR 𝑥2\"</b> logical operation is <b>w1 = -0.1</b>  and <b>w2 = 1.0</b>."
   ]
  },
  {
   "cell_type": "code",
   "execution_count": 55,
   "id": "3afae9c4",
   "metadata": {},
   "outputs": [
    {
     "data": {
      "text/plain": [
       "w1   -0.1\n",
       "w2    1.0\n",
       "Name: 809, dtype: float64"
      ]
     },
     "execution_count": 55,
     "metadata": {},
     "output_type": "execute_result"
    }
   ],
   "source": [
    "df_d.iloc[minimum_index_d][0:2]"
   ]
  },
  {
   "cell_type": "markdown",
   "id": "916d9feb",
   "metadata": {},
   "source": [
    "### d.III) Plotting"
   ]
  },
  {
   "cell_type": "code",
   "execution_count": 56,
   "id": "2cec0dc7",
   "metadata": {},
   "outputs": [
    {
     "data": {
      "image/png": "[encoded data removed]",
      "text/plain": [
       "<Figure size 576x576 with 1 Axes>"
      ]
     },
     "metadata": {
      "needs_background": "light"
     },
     "output_type": "display_data"
    }
   ],
   "source": [
    "fig = plt.figure(figsize = (8,8))\n",
    "ax = plt.axes(projection='3d')\n",
    "\n",
    "# ax.grid()\n",
    "# x1 = [0, 1]\n",
    "# x2 = [0, 1]\n",
    "# y = [0, 1]\n",
    "\n",
    "ax.plot3D(x1, x2, y_d)\n",
    "ax.set_title('3D Parametric Plot')\n",
    "\n",
    "#specify axis tick step sizes\n",
    "ax.set_xticks([0, 1])\n",
    "ax.set_yticks([0, 1])\n",
    "ax.set_zticks([0, 1])\n",
    "\n",
    "# Set axes label\n",
    "ax.set_xlabel('x1', labelpad=20)\n",
    "ax.set_ylabel('x2', labelpad=20)\n",
    "ax.set_zlabel('y', labelpad=20)\n",
    "\n",
    "plt.show()"
   ]
  }
 ],
 "metadata": {
  "kernelspec": {
   "display_name": "Python 3",
   "language": "python",
   "name": "python3"
  },
  "language_info": {
   "codemirror_mode": {
    "name": "ipython",
    "version": 3
   },
   "file_extension": ".py",
   "mimetype": "text/x-python",
   "name": "python",
   "nbconvert_exporter": "python",
   "pygments_lexer": "ipython3",
   "version": "3.8.8"
  }
 },
 "nbformat": 4,
 "nbformat_minor": 5
}
