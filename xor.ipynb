{
 "cells": [
  {
   "cell_type": "markdown",
   "id": "11cb3718",
   "metadata": {},
   "source": [
    "<hr style=\"border:2px solid gray\"> </hr>"
   ]
  },
  {
   "cell_type": "code",
   "execution_count": null,
   "id": "f1afa3c7",
   "metadata": {},
   "outputs": [],
   "source": [
    "# importing necessary libraries\n",
    "import numpy as np\n",
    "import pandas as pd\n",
    "import matplotlib.pyplot as plt\n",
    "from graphviz import Digraph\n",
    "from graphviz import Source\n",
    "from math import e\n",
    "import math\n",
    "from matplotlib import cm\n",
    "import matplotlib.pyplot as plt\n",
    "%matplotlib inline"
   ]
  },
  {
   "cell_type": "code",
   "execution_count": null,
   "id": "5ca9a0ef",
   "metadata": {},
   "outputs": [],
   "source": [
    "#Input Variables\n",
    "x1 = [-1,-1,+1,+1]\n",
    "x2 = [-1,+1,-1,+1]"
   ]
  },
  {
   "cell_type": "code",
   "execution_count": null,
   "id": "1bea8b1a",
   "metadata": {},
   "outputs": [],
   "source": [
    "xor = np.array([0,1,1,0])"
   ]
  },
  {
   "cell_type": "markdown",
   "id": "2290aa91",
   "metadata": {},
   "source": [
    "### Question 1"
   ]
  },
  {
   "cell_type": "code",
   "execution_count": null,
   "id": "215908c3",
   "metadata": {},
   "outputs": [],
   "source": [
    "graph = temp = '''\n",
    "digraph G {\n",
    "\n",
    "     graph[ fontname = \"Helvetica-Oblique\",\n",
    "            fontsize = 12,\n",
    "            label = \"\",\n",
    "            size = \"7.75,10.25\" ];\n",
    "\n",
    "    rankdir = LR;\n",
    "    splines=false;\n",
    "    edge[style=invis];\n",
    "    ranksep= 1.4;\n",
    "    {\n",
    "    node [shape=circle, color=chartreuse, style=filled, fillcolor=chartreuse];\n",
    "    x1 [label=<x1>];\n",
    "    x2 [label=<x2>]; \n",
    "}\n",
    "{\n",
    "    node [shape=circle, color=dodgerblue, style=filled, fillcolor=dodgerblue];\n",
    "    O11 [label=<O<sub>1</sub><sup>(1)</sup>>];\n",
    "    O12 [label=<O<sub>1</sub><sup>(2)</sup>>];\n",
    "}\n",
    "{\n",
    "    node [shape=circle, color=coral1, style=filled, fillcolor=coral1];\n",
    "    O1 [label=<O<sub>2</sub><sup>(1)</sup>>]; \n",
    "}\n",
    "    {\n",
    "        rank=same;\n",
    "        x1->x2;\n",
    "    }\n",
    "    {\n",
    "        rank=same;\n",
    "        O11->O12;\n",
    "    }\n",
    "    {\n",
    "    rank=same;\n",
    "    O1;\n",
    "    }\n",
    "    l0 [shape=plaintext, label=\"(Input Layer)\"];\n",
    "    l0->x1;\n",
    "    {rank=same; l0;x1};\n",
    "    \n",
    "    l1 [shape=plaintext, label=\"Layer 1 (Hidden Layer = ReQU Activation Function)\"];\n",
    "    l1->O11;\n",
    "    {rank=same; l1;O11};\n",
    "    \n",
    "   \n",
    "    l3 [shape=plaintext, label=\"Layer 2 (Output Layer = Sigmoid Activation Function)\"];\n",
    "    l3->O1;\n",
    "    {rank=same; l3;O1};\n",
    "    \n",
    "    edge[style=solid, tailport=e, headport=w];\n",
    "    {x1; x2} -> {O11;O12};\n",
    "    {O11;O12} -> {O1};\n",
    "}'''\n",
    "\n",
    "s = Source(temp)\n",
    "s\n"
   ]
  },
  {
   "cell_type": "code",
   "execution_count": null,
   "id": "b22afdb2",
   "metadata": {},
   "outputs": [],
   "source": [
    "def ReQU(z):\n",
    "    \n",
    "    res = z**2/(1+np.exp(-z))\n",
    "    \n",
    "    return res"
   ]
  },
  {
   "cell_type": "code",
   "execution_count": null,
   "id": "a9b8ae8c",
   "metadata": {},
   "outputs": [],
   "source": [
    "def sigmoid(z):\n",
    "    \n",
    "    res = 1/(1+np.exp(-z)) \n",
    " \n",
    "    return res"
   ]
  },
  {
   "cell_type": "code",
   "execution_count": null,
   "id": "b1b159b5",
   "metadata": {},
   "outputs": [],
   "source": [
    "W201 = -1\n",
    "W211 = 7\n",
    "W221 = -4\n",
    "\n",
    "W101 = 5\n",
    "W111 = 1\n",
    "W121 = 1\n",
    "\n",
    "W102 = -1.5\n",
    "W112 = 1\n",
    "W122 = 1"
   ]
  },
  {
   "cell_type": "code",
   "execution_count": null,
   "id": "ddecc181",
   "metadata": {},
   "outputs": [],
   "source": [
    "def forward_propagation(x1, x2, W201, W211, W221, W101, W111, W121, W102, W112, W122):\n",
    "    \n",
    "    Z11 = W101 + x1*W111 + x2*W121\n",
    "    O11 = ReQU(Z11)\n",
    "    Z12 = W102 + x1*W112 + x2*W122\n",
    "    O12 = ReQU(Z12)\n",
    "    Z21 = W201 + W211*O11 + W221*O12\n",
    "    res = sigmoid(Z21)\n",
    "    \n",
    "    return Z11, O11, Z12, O12, Z21, res"
   ]
  },
  {
   "cell_type": "code",
   "execution_count": null,
   "id": "a4be3231",
   "metadata": {},
   "outputs": [],
   "source": [
    "O11 = []\n",
    "O12 = []\n",
    "Z21 = []\n",
    "Z11 = []\n",
    "O11 = [] \n",
    "Z12 = [] \n",
    "O12 = []\n",
    "Z21 = []\n",
    "finded_result = []\n",
    "\n",
    "for i in range(len(x1)):\n",
    "    Z_temp_11, O_temp_11, Z_temp_12, O_temp_12, Z_temp_21, res = forward_propagation(x1[i], x2[i], W201, W211, W221, W101, W111, W121, W102, W112, W122)\n",
    "    Z11.append(Z_temp_11)\n",
    "    O11.append(O_temp_11)\n",
    "    Z12.append(Z_temp_12)\n",
    "    O12.append(O_temp_12)\n",
    "    Z21.append(Z_temp_21)\n",
    "    finded_result.append(res)"
   ]
  },
  {
   "cell_type": "code",
   "execution_count": null,
   "id": "6d54ff88",
   "metadata": {},
   "outputs": [],
   "source": [
    "finded_result"
   ]
  },
  {
   "cell_type": "markdown",
   "id": "8f2d4ec1",
   "metadata": {},
   "source": [
    "Below dataframe shows <b>calculated outputs</b> for 4 input data pairs given Neural Network architecture."
   ]
  },
  {
   "cell_type": "code",
   "execution_count": null,
   "id": "669da891",
   "metadata": {},
   "outputs": [],
   "source": [
    "df = pd.DataFrame(finded_result, index =['1', '2', '3', '4'],columns =['Calculated Output'])\n",
    "df"
   ]
  },
  {
   "cell_type": "markdown",
   "id": "b1e90e4e",
   "metadata": {},
   "source": [
    "<b>But we should find below desired outputs with using true weight values.</b>"
   ]
  },
  {
   "cell_type": "code",
   "execution_count": null,
   "id": "93ab68a3",
   "metadata": {},
   "outputs": [],
   "source": [
    "df = pd.DataFrame(xor, index =['1', '2', '3', '4'],columns =['Desired Output'])\n",
    "df"
   ]
  },
  {
   "cell_type": "markdown",
   "id": "1b9be427",
   "metadata": {},
   "source": [
    "### Question 2"
   ]
  },
  {
   "cell_type": "code",
   "execution_count": null,
   "id": "10e89f5c",
   "metadata": {},
   "outputs": [],
   "source": [
    "def showTrainingData(x1, x2, y, title):  \n",
    "    \n",
    "    classPositive = (y > 0).flatten()\n",
    "    classNegative = (y < 0).flatten()\n",
    "    \n",
    "    plt.scatter(x1[classPositive], x2[classPositive], marker=\"+\", s=250, c='g')\n",
    "    plt.scatter(x1[classNegative], x2[classNegative], marker=\"_\", s=250, c='r')\n",
    "    plt.title(title)\n",
    "    plt.xlim(-1.5, 1.5)\n",
    "    plt.ylim(-1.5, 1.5)\n",
    "    plt.show()"
   ]
  },
  {
   "cell_type": "code",
   "execution_count": null,
   "id": "5335ebc6",
   "metadata": {},
   "outputs": [],
   "source": [
    "def plotDecisionSurface(w, title, a):   \n",
    "    x1grid = np.arange(-3, 3.0, 0.1)\n",
    "    x2grid = np.arange(-3, 3.0, 0.1)\n",
    "    xx, yy = np.meshgrid(x1grid, x2grid)    \n",
    "    n = xx.flatten().shape[0]\n",
    "    X = np.c_[np.ones((n, 1)), xx.flatten(), yy.flatten()]\n",
    "\n",
    "    z = np.dot(X, w)\n",
    "    if(a==2):\n",
    "        y_hat = sigmoid(z)\n",
    "    elif(a==1):\n",
    "        y_hat = ReQU(z)\n",
    "    elif(a==3):\n",
    "        y_hat = np.where(z > 0, 1, -1)\n",
    "        y_hat = y_hat.T\n",
    "    \n",
    "#     y_hat = np.array(y_hat)\n",
    "    \n",
    "    fig, ax = plt.subplots(1,1, figsize=(16,8), subplot_kw={\"projection\": \"3d\"})   \n",
    "    surf = ax.plot_surface(xx, yy, y_hat.reshape(xx.shape), alpha=0.5, cmap=cm.coolwarm, linewidth=0, antialiased=False)\n",
    "    ax.set_title(title)\n",
    "    ax.set_xlabel(\"x1\")\n",
    "    ax.set_ylabel(\"x2\")"
   ]
  },
  {
   "cell_type": "code",
   "execution_count": null,
   "id": "fb369564",
   "metadata": {},
   "outputs": [],
   "source": [
    "x1 = np.array(x1)\n",
    "x2 = np.array(x2)"
   ]
  },
  {
   "cell_type": "markdown",
   "id": "069d9a45",
   "metadata": {},
   "source": [
    "### Calculated Result From Network Architecture With Given X1 and X2"
   ]
  },
  {
   "cell_type": "markdown",
   "id": "49b5a81e",
   "metadata": {},
   "source": [
    "In here we calculated the outputs from hand-written weights and x1, x2 inputs. This calculation gives us <b>[1, 1, 1, 1]</b>."
   ]
  },
  {
   "cell_type": "markdown",
   "id": "38991213",
   "metadata": {},
   "source": [
    "### Output Layer"
   ]
  },
  {
   "cell_type": "code",
   "execution_count": null,
   "id": "5cf9aa6e",
   "metadata": {},
   "outputs": [],
   "source": [
    "title = r\"$X_1$, $X_2$\"\n",
    "\n",
    "y = np.array([+1, +1, +1, +1]).reshape(4,1)\n",
    "showTrainingData(x1, x2, y, title)\n",
    "\n",
    "w = np.array([-1,7,-4])\n",
    "\n",
    "plotDecisionSurface(w, title, 2)"
   ]
  },
  {
   "cell_type": "markdown",
   "id": "90713e62",
   "metadata": {},
   "source": [
    "### Hidden Layer 1st Neuron"
   ]
  },
  {
   "cell_type": "code",
   "execution_count": null,
   "id": "76e51fef",
   "metadata": {},
   "outputs": [],
   "source": [
    "title = r\"$X_1$, $X_2$\"\n",
    "\n",
    "y = np.array([+1, +1, +1, +1]).reshape(4,1)\n",
    "showTrainingData(x1, x2, y, title)\n",
    "\n",
    "w = np.array([5,1,1])\n",
    "\n",
    "plotDecisionSurface(w, title, 3)"
   ]
  },
  {
   "cell_type": "markdown",
   "id": "04d87712",
   "metadata": {},
   "source": [
    "### Hidden Layer 2nd Neuron"
   ]
  },
  {
   "cell_type": "code",
   "execution_count": null,
   "id": "4a06547e",
   "metadata": {},
   "outputs": [],
   "source": [
    "title = r\"$X_1$, $X_2$\"\n",
    "\n",
    "y = np.array([+1, +1, +1, +1]).reshape(4,1)\n",
    "showTrainingData(x1, x2, y, title)\n",
    "\n",
    "w = np.array([-1.5,1,1])\n",
    "\n",
    "plotDecisionSurface(w, title, 3)"
   ]
  },
  {
   "cell_type": "markdown",
   "id": "4de2422e",
   "metadata": {},
   "source": [
    "### Actual XOR Result"
   ]
  },
  {
   "cell_type": "markdown",
   "id": "4a5d02e0",
   "metadata": {},
   "source": [
    "Normally, the XOR result of given x1 and x2 inputs should have been <b>[0, 1, 1, 0]</b>."
   ]
  },
  {
   "cell_type": "code",
   "execution_count": null,
   "id": "31292f14",
   "metadata": {},
   "outputs": [],
   "source": [
    "title = r\"$X_1$ XOR $X_2$\"\n",
    "\n",
    "y = np.array([0, 1, 1, 0]).reshape(4,1)\n",
    "showTrainingData(x1, x2, y, title)\n",
    "\n",
    "w = np.array([-1,7,-4])\n",
    "\n",
    "plotDecisionSurface(w, title, 3)"
   ]
  },
  {
   "cell_type": "markdown",
   "id": "af3086bb",
   "metadata": {},
   "source": [
    "### Question 3"
   ]
  },
  {
   "cell_type": "code",
   "execution_count": null,
   "id": "6e88d9ad",
   "metadata": {},
   "outputs": [],
   "source": [
    "def der_sigmoid_res(z):\n",
    "    \n",
    "    res = e**(-z)/((1+e**(-z))**2)\n",
    "    \n",
    "    return res"
   ]
  },
  {
   "cell_type": "code",
   "execution_count": null,
   "id": "5d2564a4",
   "metadata": {},
   "outputs": [],
   "source": [
    "def der_ReQU_res(z):\n",
    "    \n",
    "    res = (2*z)/(1+e**(-z))+((e**(-z))*z**2)/((1+e**(-z))**2)\n",
    "    \n",
    "    return res"
   ]
  },
  {
   "cell_type": "code",
   "execution_count": null,
   "id": "195abdc1",
   "metadata": {},
   "outputs": [],
   "source": [
    "def back_propagation(O21, Od, O11, O12, Z21, Z11, Z12):\n",
    "    \n",
    "    e201 = []\n",
    "    e211 = []\n",
    "    e221 = []\n",
    "    total_error_layer_2 = []\n",
    "    \n",
    "    e101 = []\n",
    "    e111 = []\n",
    "    e121 = []\n",
    "    total_error_layer_11 = []\n",
    "    \n",
    "    e102 = []\n",
    "    e112 = []\n",
    "    e122 = []\n",
    "    total_error_layer_12 = []\n",
    "        \n",
    "    #error O21\n",
    "    for i in range(4):\n",
    "        e201.append((O21[i]-Od[i])*O21[i]*(1-O21[i]))\n",
    "        e211.append(e201[i]*O11[i])  \n",
    "        e221.append(e201[i]*O12[i]) \n",
    "        \n",
    "        total_error_layer_2.append(e201[i] + e211[i] + e221[i])  \n",
    "    \n",
    "    #error O11\n",
    "    for i in range(4):\n",
    "        e101.append(e201[i]*W211*O11[i]*((2/Z11[i])+1-(O11[i]/(Z11[i]**2))))\n",
    "        e111.append(e101[i]*x1[i])  \n",
    "        e121.append(e101[i]*x2[i])\n",
    "        \n",
    "        total_error_layer_11.append(e101[i] + e111[i] + e121[i])\n",
    "    \n",
    "    #error O12\n",
    "    for i in range(4):\n",
    "        e102.append(e201[i]*W221*O12[i]*((2/Z12[i])+1-(O12[i]/(Z12[i]**2))))\n",
    "        e112.append(e102[i]*x1[i])  \n",
    "        e122.append(e102[i]*x2[i])\n",
    "        \n",
    "        total_error_layer_12.append(e102[i] + e112[i] + e122[i])\n",
    "    \n",
    "    return total_error_layer_2, total_error_layer_11, total_error_layer_12"
   ]
  },
  {
   "cell_type": "code",
   "execution_count": null,
   "id": "4d0484ec",
   "metadata": {},
   "outputs": [],
   "source": [
    "# def back_propagation(O21, Od, Z21, Z11, Z12):\n",
    "    \n",
    "#     e201 = []\n",
    "#     e211 = []\n",
    "#     e221 = []\n",
    "#     total_error_layer_2 = []\n",
    "    \n",
    "#     e101 = []\n",
    "#     e111 = []\n",
    "#     e121 = []\n",
    "#     total_error_layer_11 = []\n",
    "    \n",
    "#     e102 = []\n",
    "#     e112 = []\n",
    "#     e122 = []\n",
    "#     total_error_layer_12 = []\n",
    "        \n",
    "#     #error O21\n",
    "#     for i in range(4):\n",
    "#         e201.append((O21[i]-Od[i])*der_sigmoid_res(Z21[i]))\n",
    "#         e211.append(e201[i]*O11[i])  \n",
    "#         e221.append(e201[i]*O12[i]) \n",
    "        \n",
    "#         total_error_layer_2.append(e201[i] + e211[i] + e221[i])  \n",
    "    \n",
    "#     #error O11\n",
    "#     for i in range(4):\n",
    "#         e101.append(e201[i]*W211*der_ReQU_res(Z11[i]))\n",
    "#         e111.append(e101[i]*x1[i])  \n",
    "#         e121.append(e101[i]*x2[i])\n",
    "        \n",
    "#         total_error_layer_11.append(e101[i] + e111[i] + e121[i])\n",
    "    \n",
    "#     #error O12\n",
    "#     for i in range(4):\n",
    "#         e102.append(e201[i]*W221*der_ReQU_res(Z12[i]))\n",
    "#         e112.append(e102[i]*x1[i])  \n",
    "#         e122.append(e102[i]*x2[i])\n",
    "        \n",
    "#         total_error_layer_12.append(e102[i] + e112[i] + e122[i])\n",
    "    \n",
    "#     return total_error_layer_2, total_error_layer_11, total_error_layer_12"
   ]
  },
  {
   "cell_type": "code",
   "execution_count": null,
   "id": "ed0ce445",
   "metadata": {},
   "outputs": [],
   "source": [
    "finded_result = np.array(finded_result)"
   ]
  },
  {
   "cell_type": "code",
   "execution_count": null,
   "id": "890425e0",
   "metadata": {},
   "outputs": [],
   "source": [
    "error_2, error_11, error_12 = back_propagation(finded_result, xor, O11, O12, Z21, Z11, Z12)"
   ]
  },
  {
   "cell_type": "markdown",
   "id": "ccb93cab",
   "metadata": {},
   "source": [
    "<b>Error's derivatives for layer 2 weights for x1, x2 data points respectively.</b>"
   ]
  },
  {
   "cell_type": "code",
   "execution_count": null,
   "id": "1855eb45",
   "metadata": {},
   "outputs": [],
   "source": [
    "error_2"
   ]
  },
  {
   "cell_type": "markdown",
   "id": "b1766efe",
   "metadata": {},
   "source": [
    "<b>Error's derivatives for layer 1, 1st neuron weights for x1, x2 data points respectively.</b>"
   ]
  },
  {
   "cell_type": "code",
   "execution_count": null,
   "id": "580268ff",
   "metadata": {},
   "outputs": [],
   "source": [
    "error_11"
   ]
  },
  {
   "cell_type": "markdown",
   "id": "0afcd3d1",
   "metadata": {},
   "source": [
    "<b>Error's derivatives for layer 1, 2n neuron weights for x1, x2 data points respectively.</b>"
   ]
  },
  {
   "cell_type": "code",
   "execution_count": null,
   "id": "149ca249",
   "metadata": {},
   "outputs": [],
   "source": [
    "error_12"
   ]
  },
  {
   "cell_type": "code",
   "execution_count": null,
   "id": "9293844e",
   "metadata": {},
   "outputs": [],
   "source": [
    "w0_range = np.arange(-10, 10, 1.0)\n",
    "w1_range = np.arange(-10, 10, 0.1)\n",
    "w2_range = np.arange(-10, 10, 0.1)"
   ]
  },
  {
   "cell_type": "markdown",
   "id": "d6eeed1f",
   "metadata": {},
   "source": [
    "In <b>findBestWeight</b> method, we apply <b>Brute Force</b> while finding best weight values."
   ]
  },
  {
   "cell_type": "code",
   "execution_count": null,
   "id": "d7d38e7e",
   "metadata": {},
   "outputs": [],
   "source": [
    "def findBestWeight(w0_range, w1_range, w2_range, O_d, Z21, Z11, Z12):\n",
    "    \n",
    "    O2_1 = []\n",
    "\n",
    "    minError = math.inf    \n",
    "    for w0 in w0_range:\n",
    "        for w1 in w1_range:\n",
    "            for w2 in w2_range:\n",
    "                for i in range(4):\n",
    "                    Z11_temp, O11_temp, Z12_temp, O12_temp, Z21_temp, res_temp = forward_propagation(x1[i], x2[i], w0, w1, w2, W101, W111, W121, W102, W112, W122)\n",
    "                    O2_1.append(res_temp)\n",
    "                    \n",
    "                e2, e11, e12 = back_propagation(O2_1, O_d, O11, O12, Z21_temp, Z11, Z12)\n",
    "                \n",
    "#                 if(np.abs(np.sum(e2))<minError):\n",
    "#                     minError = np.abs(np.sum(e2))\n",
    "#                     w20_best = w0\n",
    "#                     w21_best = w1\n",
    "#                     w22_best = w2\n",
    "                [x,y,z,t] = O2_1\n",
    "                if(-0.5 <= x <= 0.5 and 0.5 <= y <= 1.5 and 0.5 <= z <= 1.5 and -0.5 <= t <= 0.5):\n",
    "                    w20_best = w0\n",
    "                    w21_best = w1\n",
    "                    w22_best = w2\n",
    "                    break\n",
    "                    \n",
    "                O2_1 = []\n",
    "    \n",
    "    O1_1 = []\n",
    "    Z11_temp = []\n",
    "    O11_temp = []\n",
    "    Z12_temp = []\n",
    "    O12_temp = []\n",
    "    Z21_temp = []\n",
    "    \n",
    "    minError = math.inf    \n",
    "    for w0 in w0_range:\n",
    "        for w1 in w1_range:\n",
    "            for w2 in w2_range:\n",
    "                for i in range(4):\n",
    "                    Z11_temp_2, O11_temp_2, Z12_temp_2, O12_temp_2, Z21_temp_2, res_temp_2 = forward_propagation(x1[i], x2[i], w20_best, w21_best, w22_best, w0, w1, w2, W102, W112, W122)\n",
    "                    \n",
    "                    Z11_temp.append(Z11_temp_2)\n",
    "                    O11_temp.append(O11_temp_2)\n",
    "                    Z12_temp.append(Z12_temp_2)\n",
    "                    O12_temp.append(O12_temp_2)\n",
    "                    Z21_temp.append(Z21_temp_2)\n",
    "                    O1_1.append(res_temp)   \n",
    "                    \n",
    "                e2, e11, e12 = back_propagation(O1_1, O_d, O11_temp, O12, Z21_temp, Z11_temp, Z12)\n",
    "                \n",
    "                if(np.abs(np.sum(e2))<minError):\n",
    "                    minError = np.abs(np.sum(e2))\n",
    "                    w101_best = w0\n",
    "                    w111_best = w1\n",
    "                    w121_best = w2\n",
    "                    \n",
    "                O1_1 = []\n",
    "        \n",
    "    O1_2 = []\n",
    "    Z11_temp = []\n",
    "    O11_temp = []\n",
    "    Z12_temp = []\n",
    "    O12_temp = []\n",
    "    Z21_temp = []\n",
    "    \n",
    "    minError = math.inf    \n",
    "    for w0 in w0_range:\n",
    "        for w1 in w1_range:\n",
    "            for w2 in w2_range:\n",
    "                for i in range(4):\n",
    "                    Z11_temp_2, O11_temp_2, Z12_temp_2, O12_temp_2, Z21_temp_2, res_temp = forward_propagation(x1[i], x2[i], w20_best, w21_best, w22_best, w101_best, w111_best, w121_best, w0, w1, w2)\n",
    "                    \n",
    "                    Z11_temp.append(Z11_temp_2)\n",
    "                    O11_temp.append(O11_temp_2)\n",
    "                    Z12_temp.append(Z12_temp_2)\n",
    "                    O12_temp.append(O12_temp_2)\n",
    "                    Z21_temp.append(Z21_temp_2)\n",
    "                    \n",
    "                    O1_2.append(res_temp)\n",
    "                    \n",
    "                e2, e11, e12 = back_propagation(O1_2, O_d, O11_temp, O12_temp, Z21_temp, Z11_temp, Z12_temp)\n",
    "                \n",
    "                if(np.abs(np.sum(e2))<minError):\n",
    "                    minError = np.abs(np.sum(e2))\n",
    "                    w102_best = w0\n",
    "                    w112_best = w1\n",
    "                    w122_best = w2\n",
    "                    \n",
    "                O1_2 = []\n",
    "                \n",
    "    return minError, w20_best, w21_best, w22_best, w101_best, w111_best, w121_best, w102_best, w112_best, w122_best"
   ]
  },
  {
   "cell_type": "code",
   "execution_count": null,
   "id": "7685b02d",
   "metadata": {},
   "outputs": [],
   "source": [
    "min_error, w20_best, w21_best, w22_best, w101_best, w111_best, w121_best, w102_best, w112_best, w122_best = findBestWeight(w0_range, w1_range, w2_range, xor, Z21, Z11, Z12)"
   ]
  },
  {
   "cell_type": "code",
   "execution_count": null,
   "id": "e69a4301",
   "metadata": {},
   "outputs": [],
   "source": [
    "min_error"
   ]
  },
  {
   "cell_type": "code",
   "execution_count": null,
   "id": "1b4cb6d8",
   "metadata": {},
   "outputs": [],
   "source": [
    "result = []\n",
    "for i in range(4):\n",
    "    result.append(forward_propagation(x1[i], x2[i], w20_best, w21_best, w22_best, w101_best, w111_best, w121_best, w102_best, w112_best, w122_best))"
   ]
  },
  {
   "cell_type": "code",
   "execution_count": null,
   "id": "620765f7",
   "metadata": {},
   "outputs": [],
   "source": [
    "result"
   ]
  },
  {
   "cell_type": "markdown",
   "id": "a0160ea4",
   "metadata": {},
   "source": [
    "### Question 4"
   ]
  },
  {
   "cell_type": "markdown",
   "id": "c28f9a14",
   "metadata": {},
   "source": [
    "### Output Layer"
   ]
  },
  {
   "cell_type": "code",
   "execution_count": null,
   "id": "b6d85d6d",
   "metadata": {},
   "outputs": [],
   "source": [
    "title = r\"$X_1$, $X_2$\"\n",
    "\n",
    "y = np.array([0, +1, +1, 0]).reshape(4,1)\n",
    "showTrainingData(x1, x2, y, title)\n",
    "\n",
    "w = np.array([w20_best, w21_best, w22_best])\n",
    "\n",
    "plotDecisionSurface(w, title, 2)"
   ]
  },
  {
   "cell_type": "markdown",
   "id": "8f985bd8",
   "metadata": {},
   "source": [
    "### Hidden Layer 1st Neuron"
   ]
  },
  {
   "cell_type": "code",
   "execution_count": null,
   "id": "8d1edf0e",
   "metadata": {},
   "outputs": [],
   "source": [
    "title = r\"$X_1$, $X_2$\"\n",
    "\n",
    "y = np.array([0, +1, +1, 0]).reshape(4,1)\n",
    "showTrainingData(x1, x2, y, title)\n",
    "\n",
    "w = np.array([w101_best, w111_best, w121_best])\n",
    "\n",
    "plotDecisionSurface(w, title, 2)"
   ]
  },
  {
   "cell_type": "markdown",
   "id": "9d700662",
   "metadata": {},
   "source": [
    "### Hidden Layer 2nd Neuron"
   ]
  },
  {
   "cell_type": "code",
   "execution_count": null,
   "id": "d31bde59",
   "metadata": {},
   "outputs": [],
   "source": [
    "title = r\"$X_1$, $X_2$\"\n",
    "\n",
    "y = np.array([0, +1, +1, 0]).reshape(4,1)\n",
    "showTrainingData(x1, x2, y, title)\n",
    "\n",
    "w = np.array([w102_best, w112_best, w122_best])\n",
    "\n",
    "plotDecisionSurface(w, title, 2)"
   ]
  }
 ],
 "metadata": {
  "kernelspec": {
   "display_name": "Python 3",
   "language": "python",
   "name": "python3"
  },
  "language_info": {
   "codemirror_mode": {
    "name": "ipython",
    "version": 3
   },
   "file_extension": ".py",
   "mimetype": "text/x-python",
   "name": "python",
   "nbconvert_exporter": "python",
   "pygments_lexer": "ipython3",
   "version": "3.8.8"
  }
 },
 "nbformat": 4,
 "nbformat_minor": 5
}
